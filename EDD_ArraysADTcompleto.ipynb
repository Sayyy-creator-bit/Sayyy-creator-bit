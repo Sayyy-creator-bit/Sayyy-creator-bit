{
  "nbformat": 4,
  "nbformat_minor": 0,
  "metadata": {
    "colab": {
      "name": "EDD_ArraysADT.ipynb",
      "provenance": [],
      "collapsed_sections": [],
      "authorship_tag": "ABX9TyO9Kl5khlHqK3CY8cw/0dlf",
      "include_colab_link": true
    },
    "kernelspec": {
      "name": "python3",
      "display_name": "Python 3"
    },
    "language_info": {
      "name": "python"
    }
  },
  "cells": [
    {
      "cell_type": "markdown",
      "metadata": {
        "id": "view-in-github",
        "colab_type": "text"
      },
      "source": [
        "<a href=\"https://colab.research.google.com/github/Sayyy-creator-bit/Sayyy-creator-bit/blob/main/EDD_ArraysADTcompleto.ipynb\" target=\"_parent\"><img src=\"https://colab.research.google.com/assets/colab-badge.svg\" alt=\"Open In Colab\"/></a>"
      ]
    },
    {
      "cell_type": "markdown",
      "metadata": {
        "id": "RkBFczO1QxaS"
      },
      "source": [
        "#Estructura de Datos\n",
        "- Almacenan información de forma eficiente\n",
        "- Optimizan algoritmos (ver si el algoritmo va a utilizar espacio de memoria y cuanto)\n",
        "- Evitar ciclos anidados (pueden ser ineficientes)\n",
        "- Cálculo (cada estructura tiene sus variantes y se pueden utilizar para distintos programas)\n",
        "- Se pueden utilizar en cualquier lenguaje de programación\n",
        "\n",
        "##Programa\n",
        "- Algoritmo + Estructura de datos = Programa\n",
        "\n",
        "##Tipos\n",
        "+ Asignar memoria:\n",
        "  - Estáticas \n",
        "\n",
        "  Cuando se declara y se le establece un tamaño, no cambia a lo largo del programa (arreglos en C o Java) \n",
        "\n",
        "  { int edades [5]; } = se está declarando 5 espacios de memoria y solo se podrán utilizar esos.\n",
        "  - Dinámicas \n",
        "\n",
        " Cuando se declaran, el definir el tamaño (vacías), su tamaño se irá cambiando al momento de ejecutar porque la lógica irá liberando memoria o solicitandola.\n",
        "\n",
        "  { ArrayList list = new ArrayList; \n",
        "\n",
        "  lst.add (  ); \n",
        "\n",
        "  lst.get(0); }\n",
        "\n",
        "\n",
        "+ Estructura en memoria\n",
        "  - Lineales \n",
        "\n",
        "  Conceptualmente tienen un enlace simple de los elementos y accesibles por su posición.\n",
        "\n",
        "  se accede a través de la variables que se declaró, por medio del índice. { int edades[5]; } están cada elemento uno tras de otro.\n",
        "  - No-lineales \n",
        "\n",
        "  Los elementos pueden tener múltiples enlaces y se puede acceder a los elementos por varios caminos. Está distribuida en diferentes espacios de memoria.\n",
        "\n",
        "   Ejemplo: Arbol ar(solo accede a un elemento)\n",
        "   A, B, C, D tienen su posición\n",
        "\n",
        "# ° Costo computacional\n",
        "\n",
        "\n",
        "\n",
        "\n",
        "            \n",
        "\n",
        "\n"
      ]
    },
    {
      "cell_type": "markdown",
      "metadata": {
        "id": "_LDH2U05bhED"
      },
      "source": [
        "#Tipos de datos básicos\n",
        "\n",
        "- Primitivos: enteros, flotantes, caracter, boleano, cadenas de caracter, enumeracion, puntero\n",
        "\n",
        "- \n",
        "\n",
        "#Tipos de datos abstractos\n",
        "\n",
        "- Abstract Data Type. Definido por el programador(Clase POO), cuyo objetivo es encapsular datos con una estructura específica; tiene un conjunto de métodos que operan sobre los datos.\n",
        "\n",
        "- * Nombre + Datos encapsulados + Métodos que lo manipulan = ADT *\n",
        "\n",
        "\n",
        "\n",
        "\n",
        "\n"
      ]
    },
    {
      "cell_type": "markdown",
      "metadata": {
        "id": "sf74Iib5eO1g"
      },
      "source": [
        "#Arreglos de una dimensión\n",
        " \n",
        " - Ejemplo:\n",
        " Los elementos deben ser accesibles por un índice = es lineal\n",
        "\n",
        " Los elementos deben ser enteros\n",
        "\n",
        " Debe tener los sig métodos específicos\n",
        "\n",
        " ADT Array\n",
        " - Array(tamaño) = constructor del tamaño específico \n",
        " - getitem (index) = obtener el elemento de la posición específica\n",
        " - setitem ( dato, index) = establecer un elemento en la posición qu queremos\n",
        " - getLength() = Obtener el tamaño\n",
        " - clear (dato) = limpiar con el dato que le damos, en todos los valores del ADT\n",
        "\n",
        " "
      ]
    },
    {
      "cell_type": "code",
      "metadata": {
        "colab": {
          "base_uri": "https://localhost:8080/"
        },
        "id": "3VRY_UucQRFI",
        "outputId": "115aa498-7510-4c9e-99a0-1e7739d9f8e1"
      },
      "source": [
        "#ADT Array\n",
        "\n",
        "class Array:\n",
        "    def __init__( self, tam):\n",
        "        self.__tamanio = tam\n",
        "        #generador que crea listas automáticamente\n",
        "        self.__data = [ 5 * x for x in range (self.__tamanio) ] \n",
        "    \n",
        "    def to_string( self ):\n",
        "        info = \"\"\n",
        "        for dato in self.__data:\n",
        "            info = info + str(dato) + \" | \"\n",
        "        return info\n",
        "\n",
        "    def get_item(self, index):\n",
        "        return self.__data[index]\n",
        "\n",
        "    def get_length(self):\n",
        "        return len(self.__data)\n",
        "\n",
        "    def set_item( self, dato, index):\n",
        "        #Revisar los límites\n",
        "        if index >= 0 and index < self.get_length():\n",
        "            self.__data[index] = dato\n",
        "        else:\n",
        "            print(\"Error: indice fuera de rango\")\n",
        "        \n",
        "        self.__data[index] = dato\n",
        "\n",
        "    def clear(self, dato):\n",
        "        self.__data = [ dato for x in range (self.__tamanio) ]\n",
        "\n",
        "\n",
        "ejemplo = Array(20)\n",
        "print(ejemplo.to_string())\n",
        "print(ejemplo.get_item(2))\n",
        "ejemplo.set_item( 45, 2 )\n",
        "print(ejemplo.to_string())\n",
        "ejemplo.clear(4)\n",
        "print(ejemplo.to_string())"
      ],
      "execution_count": null,
      "outputs": [
        {
          "output_type": "stream",
          "name": "stdout",
          "text": [
            "0 | 5 | 10 | 15 | 20 | 25 | 30 | 35 | 40 | 45 | 50 | 55 | 60 | 65 | 70 | 75 | 80 | 85 | 90 | 95 | \n",
            "10\n",
            "0 | 5 | 45 | 15 | 20 | 25 | 30 | 35 | 40 | 45 | 50 | 55 | 60 | 65 | 70 | 75 | 80 | 85 | 90 | 95 | \n",
            "4 | 4 | 4 | 4 | 4 | 4 | 4 | 4 | 4 | 4 | 4 | 4 | 4 | 4 | 4 | 4 | 4 | 4 | 4 | 4 | \n"
          ]
        }
      ]
    },
    {
      "cell_type": "markdown",
      "metadata": {
        "id": "YHbUpXY4rOwQ"
      },
      "source": [
        "#EJERCICIO\n"
      ]
    },
    {
      "cell_type": "code",
      "metadata": {
        "colab": {
          "base_uri": "https://localhost:8080/"
        },
        "id": "--kSYNbenc9P",
        "outputId": "385f364a-eb88-4e19-fb7a-6861144acd94"
      },
      "source": [
        "!ls -la"
      ],
      "execution_count": 9,
      "outputs": [
        {
          "output_type": "stream",
          "name": "stdout",
          "text": [
            "total 20\n",
            "drwxr-xr-x 1 root root 4096 Oct  7 16:29 .\n",
            "drwxr-xr-x 1 root root 4096 Oct  7 16:21 ..\n",
            "drwxr-xr-x 4 root root 4096 Sep 30 17:11 .config\n",
            "-rw-r--r-- 1 root root  638 Oct  7 16:29 junio.dat\n",
            "drwxr-xr-x 1 root root 4096 Sep 30 17:12 sample_data\n"
          ]
        }
      ]
    },
    {
      "cell_type": "code",
      "metadata": {
        "colab": {
          "base_uri": "https://localhost:8080/"
        },
        "id": "Cwf06LJmlKiS",
        "outputId": "aeb4bbac-2bfe-4bc1-8085-1334a73cd328"
      },
      "source": [
        "!cat junio.dat"
      ],
      "execution_count": 4,
      "outputs": [
        {
          "output_type": "stream",
          "name": "stdout",
          "text": [
            "numero de trabajador, nombres, paterno, materno, horas extra, sueldo base, año de ingreso\r\n",
            "2345,CARLOS,PEREZ,CASTILLO,0,9850,2017\r\n",
            "5754,ANGEL,GOMEZ,GARRIDO,1,9850,2020\r\n",
            "5345,JESUS,MARTIN,SANTOS,2,9850,2016\r\n",
            "3267,DAVID,JIMENEZ,LOZANO,2,9850,2017\r\n",
            "8765,PEDRO,RUIZ,GUERRERO,2,9850,2017\r\n",
            "5454,DANIEL,HERNANDEZ,CANO,3,9850,2018\r\n",
            "3456,ALEJANDRO,DIAZ,PRIETO,2,9850,2018\r\n",
            "3445,MARIA,MORENO,MENDEZ,1,9850,2018\r\n",
            "9088,ALBERTO,MU�OZ,CRUZ,1,9850,2017\r\n",
            "8877,RAFAEL,ALVAREZ,FLORES,2,9850,2017\r\n",
            "6767,FERNANDO,ROMERO,HERRERA,4,9850,2019\r\n",
            "5654,PABLO,ALONSO,GALLEGO,1,9850,2019\r\n",
            "4323,JORGE,GUTIERREZ,MARQUEZ,2,9850,2020\r\n",
            "2232,RAMON,NAVARRO,LEON,1,9850,2016"
          ]
        }
      ]
    },
    {
      "cell_type": "code",
      "metadata": {
        "colab": {
          "base_uri": "https://localhost:8080/"
        },
        "id": "uENgu8tym_ac",
        "outputId": "edbf9e12-16f8-43e7-c1d8-fc2bc702ec7e"
      },
      "source": [
        "archivo = open ('junio.dat', 'rt', encoding='latin-1')\n",
        "print (archivo.read())"
      ],
      "execution_count": 7,
      "outputs": [
        {
          "output_type": "stream",
          "name": "stdout",
          "text": [
            "numero de trabajador, nombres, paterno, materno, horas extra, sueldo base, aÃ±o de ingreso\n",
            "2345,CARLOS,PEREZ,CASTILLO,0,9850,2017\n",
            "5754,ANGEL,GOMEZ,GARRIDO,1,9850,2020\n",
            "5345,JESUS,MARTIN,SANTOS,2,9850,2016\n",
            "3267,DAVID,JIMENEZ,LOZANO,2,9850,2017\n",
            "8765,PEDRO,RUIZ,GUERRERO,2,9850,2017\n",
            "5454,DANIEL,HERNANDEZ,CANO,3,9850,2018\n",
            "3456,ALEJANDRO,DIAZ,PRIETO,2,9850,2018\n",
            "3445,MARIA,MORENO,MENDEZ,1,9850,2018\n",
            "9088,ALBERTO,MUOZ,CRUZ,1,9850,2017\n",
            "8877,RAFAEL,ALVAREZ,FLORES,2,9850,2017\n",
            "6767,FERNANDO,ROMERO,HERRERA,4,9850,2019\n",
            "5654,PABLO,ALONSO,GALLEGO,1,9850,2019\n",
            "4323,JORGE,GUTIERREZ,MARQUEZ,2,9850,2020\n",
            "2232,RAMON,NAVARRO,LEON,1,9850,2016\n"
          ]
        }
      ]
    },
    {
      "cell_type": "code",
      "metadata": {
        "id": "9F4fz4gFn8Jp"
      },
      "source": [
        "class Trabajador:\n",
        "    def __init__(self, nt, nom, pat, mat, he, sb, ai):\n",
        "        self.__numero_trabajador = nt\n",
        "        #asi para todos los atributos\n",
        "    def \n",
        "    #métodos de acceso\n",
        "    #set y get\n",
        "    def set_numero_trabajador(self, nt):\n",
        "        self.__numero_trabajador = nt \n",
        "    \n",
        "    #métodos de uso garl. = métodos que hacen cálculos de la lógica del negocio\n",
        "    "
      ],
      "execution_count": null,
      "outputs": []
    },
    {
      "cell_type": "code",
      "metadata": {
        "id": "SG07sTdEqGx-"
      },
      "source": [
        "class NominaADT:\n",
        "    def __init__(self, ruta_archivo):\n",
        "        #Abrir el archivo y determinar el numero de empleados = num_emp\n",
        "        self.__data = Array(num_emp)\n",
        "    def calcular_sueldos(self):\n",
        "        #iterar sobre el Array y hacer el calculo de sueldos\n",
        "    def mas_antiguo(self):\n",
        "        #iterar y buscar el de mayor antiguedad\n",
        "    def menos_antiguo(self):\n",
        "        #iterar y buscar el de menor antiguedad\n"
      ],
      "execution_count": null,
      "outputs": []
    }
  ]
}