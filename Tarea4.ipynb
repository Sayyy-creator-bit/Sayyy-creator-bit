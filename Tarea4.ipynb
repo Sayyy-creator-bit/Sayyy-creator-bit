{
  "nbformat": 4,
  "nbformat_minor": 0,
  "metadata": {
    "colab": {
      "name": "Tarea4.ipynb",
      "provenance": [],
      "authorship_tag": "ABX9TyPlaBCSBVGIpiMHTJ0NmU+M",
      "include_colab_link": true
    },
    "kernelspec": {
      "name": "python3",
      "display_name": "Python 3"
    },
    "language_info": {
      "name": "python"
    }
  },
  "cells": [
    {
      "cell_type": "markdown",
      "metadata": {
        "id": "view-in-github",
        "colab_type": "text"
      },
      "source": [
        "<a href=\"https://colab.research.google.com/github/Sayyy-creator-bit/Sayyy-creator-bit/blob/main/Tarea4.ipynb\" target=\"_parent\"><img src=\"https://colab.research.google.com/assets/colab-badge.svg\" alt=\"Open In Colab\"/></a>"
      ]
    },
    {
      "cell_type": "code",
      "metadata": {
        "colab": {
          "base_uri": "https://localhost:8080/"
        },
        "id": "_nQSexy_zgXp",
        "outputId": "784e164b-449c-487f-810c-e1df98286ee4"
      },
      "source": [
        "a = float(input(\"Introduzca el valor de a:  \"))\n",
        "b = float(input(\"Introduzca el valor de b:  \"))\n",
        "c = float(input(\"Introduzca el valor de c:  \"))\n",
        "\n",
        "#Calcular el discriminante\n",
        "d = (b**2)-(4*a*c)\n",
        "\n",
        "#def chicharronera(a, b, c):\n",
        "if a != 0:\n",
        "    x1 = (-b+math.sqrt(d))/(2*a)                   #(-b+(((b**2)-(4*a*c))**0.5))/(2*a)\n",
        "    x2 = (-b-math.sqrt(d))/(2*a)                   #(-b-(((b**2)-(4*a*c))**0.5))/(2*a)\n",
        "\n",
        "    print (f\"El valor de x1 es:  \")\n",
        "    print(x1)\n",
        "    print (f\"El valor de x2 es:  \")\n",
        "    print(x2)\n",
        "\n",
        "#else: a = 0:\n",
        "    #print(f\"No existen soluciones reales\")\n",
        "\n",
        "    "
      ],
      "execution_count": 32,
      "outputs": [
        {
          "output_type": "stream",
          "name": "stdout",
          "text": [
            "Introduzca el valor de a:  3\n",
            "Introduzca el valor de b:  -5\n",
            "Introduzca el valor de c:  2\n",
            "El valor de x1 es:  \n",
            "1.0\n",
            "El valor de x2 es:  \n",
            "0.6666666666666666\n"
          ]
        }
      ]
    }
  ]
}