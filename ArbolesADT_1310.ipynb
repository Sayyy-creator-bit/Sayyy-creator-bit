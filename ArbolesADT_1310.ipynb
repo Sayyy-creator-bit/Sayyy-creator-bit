{
  "nbformat": 4,
  "nbformat_minor": 0,
  "metadata": {
    "colab": {
      "name": "ArbolesADT_1310.ipynb",
      "provenance": [],
      "authorship_tag": "ABX9TyNCfa9QvHOTlA1PmED52+kT",
      "include_colab_link": true
    },
    "kernelspec": {
      "name": "python3",
      "display_name": "Python 3"
    },
    "language_info": {
      "name": "python"
    }
  },
  "cells": [
    {
      "cell_type": "markdown",
      "metadata": {
        "id": "view-in-github",
        "colab_type": "text"
      },
      "source": [
        "<a href=\"https://colab.research.google.com/github/Sayyy-creator-bit/Sayyy-creator-bit/blob/main/ArbolesADT_1310.ipynb\" target=\"_parent\"><img src=\"https://colab.research.google.com/assets/colab-badge.svg\" alt=\"Open In Colab\"/></a>"
      ]
    },
    {
      "cell_type": "markdown",
      "metadata": {
        "id": "7n2h9qib9ufJ"
      },
      "source": [
        "#ARBOLES\n",
        "\n",
        "Es un conjunto de nodos, ya sea vacío o que contiene una raíz; esta está conectada por aristas (troncos) a ninguno o más subarboles.\n",
        "\n",
        "- Forma una ·estructura jerárquica·\n",
        "  - Nodo padre\n",
        "  - Nodo hijo\n",
        "\n",
        "- Cada subarbol, por definición también es un árbol.\n",
        "\n",
        "- root = raíz\n",
        "\n",
        "- ADT no lineal\n",
        "\n",
        "- Peso: sumatoria de sus niveles\n",
        "\n",
        "- Altura: niveles \n",
        "\n",
        "- Grado: Número máximo de hijos que puede tener un nodo de un árbol\n"
      ]
    },
    {
      "cell_type": "markdown",
      "metadata": {
        "id": "BK3iCq69_rMG"
      },
      "source": [
        "##ÁRBOL N-ARIO\n",
        "\n",
        "- Su grado es flexible\n",
        "- Se puede utilizar en la administración de sistemas de archivos\n",
        "\n",
        "- Grado 2: def __init__(self, value, left=None, right=None):\n",
        "\n",
        "- Grado 3: def __init__(self, value, left=None, center=None, right=None):"
      ]
    },
    {
      "cell_type": "code",
      "metadata": {
        "id": "XG36n4064RT5"
      },
      "source": [
        "class NodoBinario:\n",
        "    def __init__(self, value, left=None, right=None):\n",
        "        self.data = value\n",
        "        self.left = left\n",
        "        self.right = right\n",
        "\n",
        "class NodoTernario:\n",
        "    def __init__(self, value, left=None, center=None, right=None):\n",
        "        self.data = value\n",
        "        self.left = left\n",
        "        self.center = center\n",
        "        self.right = right\n"
      ],
      "execution_count": 1,
      "outputs": []
    },
    {
      "cell_type": "code",
      "metadata": {
        "colab": {
          "base_uri": "https://localhost:8080/"
        },
        "id": "wHvHsPoAD5Hn",
        "outputId": "946dccd6-a801-4354-fbe6-4bc440a654c5"
      },
      "source": [
        "#Ejercicio 1\n",
        "arbol1 = NodoBinario(\"R\", NodoBinario(\"C\"), NodoBinario(\"H\"))\n",
        "print(arbol1.right.data)\n",
        "\n",
        "#Ejercicio 2\n",
        "arbol2 = NodoTernario(4, NodoTernario(3,\\\n",
        "        NodoTernario(5, left=NodoTernario(2)),\\\n",
        "        NodoTernario(5), NodoTernario(2)), None, NodoTernario(5))\n",
        "print(arbol2.left.right.data)\n",
        "print(arbol2.left.center.data)\n",
        "print(arbol2.data)\n",
        "\n",
        "print(\"------ Sin la palabra left ------\")\n",
        "ejemplo = arbol2.left.left.left.data\n",
        "print(ejemplo)\n",
        "aux = arbol2\n",
        "while( aux.left != None ):\n",
        "    aux = aux.left\n",
        "print( aux.data )\n",
        "\n",
        "arbol3 = NodoBinario( \"Santi\" , None ,NodoBinario( \"Jesus\" ,NodoBinario( \"Pedro Jr.\" ,None, NodoBinario(\"Pedro Jr\"))))\n",
        "print( arbol3.right.left.right.data)"
      ],
      "execution_count": 2,
      "outputs": [
        {
          "output_type": "stream",
          "name": "stdout",
          "text": [
            "H\n",
            "2\n",
            "5\n",
            "4\n",
            "------ Sin la palabra left ------\n",
            "2\n",
            "2\n",
            "Pedro Jr\n"
          ]
        }
      ]
    }
  ]
}