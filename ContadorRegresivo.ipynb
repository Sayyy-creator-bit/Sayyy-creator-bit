{
  "nbformat": 4,
  "nbformat_minor": 0,
  "metadata": {
    "colab": {
      "name": "ContadorRegresivo.ipynb",
      "provenance": [],
      "authorship_tag": "ABX9TyMi10JXOZOw+HIvnzDswUWI",
      "include_colab_link": true
    },
    "kernelspec": {
      "name": "python3",
      "display_name": "Python 3"
    },
    "language_info": {
      "name": "python"
    }
  },
  "cells": [
    {
      "cell_type": "markdown",
      "metadata": {
        "id": "view-in-github",
        "colab_type": "text"
      },
      "source": [
        "<a href=\"https://colab.research.google.com/github/Sayyy-creator-bit/Sayyy-creator-bit/blob/main/ContadorRegresivo.ipynb\" target=\"_parent\"><img src=\"https://colab.research.google.com/assets/colab-badge.svg\" alt=\"Open In Colab\"/></a>"
      ]
    },
    {
      "cell_type": "code",
      "metadata": {
        "id": "2uFJlETfxI7N"
      },
      "source": [
        "def mostrarlistaRec(lista, index):\n",
        "\n",
        "    if index != len(lista):\n",
        "        print(lista[index])\n",
        "        mostrarlistaRec(lista, index - 1)\n",
        "\n",
        "lista = [10, 9, 8, 7, 6, 5, 4, 3, 2, 1, 0]\n",
        "mostrarlistaRec(lista, 11)\n",
        "\n"
      ],
      "execution_count": 17,
      "outputs": []
    },
    {
      "cell_type": "code",
      "metadata": {
        "id": "_9emlTKzzqNn"
      },
      "source": [
        "def BoomRec(index):\n",
        "   if index == 0:\n",
        "       print (BOOOOOM)\n"
      ],
      "execution_count": 35,
      "outputs": []
    }
  ]
}