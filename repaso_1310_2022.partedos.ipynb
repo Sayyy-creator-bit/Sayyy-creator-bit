{
  "nbformat": 4,
  "nbformat_minor": 0,
  "metadata": {
    "colab": {
      "name": "repaso_1310_2022.ipynb",
      "provenance": [],
      "collapsed_sections": [],
      "include_colab_link": true
    },
    "kernelspec": {
      "name": "python3",
      "display_name": "Python 3"
    },
    "language_info": {
      "name": "python"
    }
  },
  "cells": [
    {
      "cell_type": "markdown",
      "metadata": {
        "id": "view-in-github",
        "colab_type": "text"
      },
      "source": [
        "<a href=\"https://colab.research.google.com/github/Sayyy-creator-bit/Sayyy-creator-bit/blob/main/repaso_1310_2022.partedos.ipynb\" target=\"_parent\"><img src=\"https://colab.research.google.com/assets/colab-badge.svg\" alt=\"Open In Colab\"/></a>"
      ]
    },
    {
      "cell_type": "markdown",
      "metadata": {
        "id": "oW8oi-43fFaw"
      },
      "source": [
        "## Repaso de programación con Python 3\n",
        "\n",
        "#### EDD 1310\n",
        "\n",
        "_Función print_\n",
        "1. Utilizando comillas doble\n",
        "1. Utilizando el signo \",\"\n",
        "1. Utilizando \"+\"\n",
        "1. Utilizando la función format\n",
        "1. El operador f\"\"\n",
        "\n",
        "\n",
        "\n"
      ]
    },
    {
      "cell_type": "code",
      "metadata": {
        "colab": {
          "base_uri": "https://localhost:8080/"
        },
        "id": "MrzIRcJDcAcj",
        "outputId": "8543eb42-2f53-4f6c-cb35-c6363d30932b"
      },
      "source": [
        "print ('Hola mundo')\n",
        "print (\"hola mundo\")\n",
        "\n",
        "nombre = \"Sayuri\"\n",
        "carrera = \"Ingenieria en Computación\"\n",
        "\n",
        "print (nombre)\n",
        "\n",
        "print (\"Hola\" , nombre )\n",
        "print (\"Hola\" + nombre)\n",
        "\n",
        "print (\"Tu nombre es: \" , nombre , \"\\n Estudiaste: \" , carrera)\n",
        "\n",
        "#Con format\n",
        "print(\"Tu nombre es:  {0} \\n Estudiaste:  {1}\".format(nombre,carrera))\n",
        "\n",
        "#Con el operador f\"\n",
        "print(f\"Tu nombre es: {nombre} \\n Estudiaste: {carrera}\")\n",
        "\n",
        "#Salto de línea al final del print se da por el argumento por defecto (end=\\n)\n",
        "print(nombre)\n",
        "print(\" \")\n",
        "print(carrera)\n",
        "#Que salga todo el print en la misma línea\n",
        "print(nombre , end=\"\")\n",
        "print(\" \", end=\"\")\n",
        "print(carrera, end=\"\")\n"
      ],
      "execution_count": null,
      "outputs": [
        {
          "output_type": "stream",
          "name": "stdout",
          "text": [
            "Hola mundo\n",
            "hola mundo\n",
            "Sayuri\n",
            "Hola Sayuri\n",
            "HolaSayuri\n",
            "Tu nombre es:  Sayuri \n",
            " Estudiaste:  Ingenieria en Computación\n",
            "Tu nombre es:  Sayuri \n",
            " Estudiaste:  Ingenieria en Computación\n",
            "Tu nombre es: Sayuri \n",
            " Estudiaste: Ingenieria en Computación\n",
            "Sayuri\n",
            " \n",
            "Ingenieria en Computación\n",
            "Sayuri Ingenieria en Computación"
          ]
        }
      ]
    },
    {
      "cell_type": "markdown",
      "metadata": {
        "id": "zdLO7j0bkxFI"
      },
      "source": [
        "## Entrada de datos\n",
        "### funcion input()\n",
        "\n",
        "Sirve para pedir datos al usuario,\n",
        "equivalente al scanf del lenguaje \"C\" o a la clase Scanner de Java. Siempre regresa un String"
      ]
    },
    {
      "cell_type": "code",
      "metadata": {
        "colab": {
          "base_uri": "https://localhost:8080/"
        },
        "id": "vz4OJ_ThlECE",
        "outputId": "9e42baa6-ac90-4ad5-b36c-63ea908f83fb"
      },
      "source": [
        "nombre = input (\"Introduce tu nombre: \")\n",
        "print(nombre)\n",
        "\n",
        "semestre = input(\"¿En qué semestre estás?: \")\n",
        "print (semestre)\n",
        "semestre = int(semestre) + 1 #+ 1 es para aumentar el valor que entra por teclado\n",
        "print (semestre)\n",
        "semestre = semestre + 1 #ya es entero\n",
        "print(semestre)\n",
        "\n",
        "#Forma sencilla de realizar la fnción input de líneas 4-9\n",
        "semestre = int( input(\"¿Cuál es tu semestre?: \") )\n",
        "semestre = semestre + 1\n",
        "print(semestre)\n"
      ],
      "execution_count": null,
      "outputs": [
        {
          "output_type": "stream",
          "name": "stdout",
          "text": [
            "Introduce tu nombre: Sayuri\n",
            "Sayuri\n",
            "¿En qué semestre estás?: 3\n",
            "3\n",
            "4\n",
            "5\n",
            "¿Cuál es tu semestre?: 3\n",
            "4\n"
          ]
        }
      ]
    },
    {
      "cell_type": "markdown",
      "metadata": {
        "id": "k6GL6TtkneFp"
      },
      "source": [
        "##Tarea Moral\n",
        "Investigar los siguientes conceptos en python:\n",
        "- Tipos de datos (en general)\n",
        "\n",
        "- Operadores:\n",
        "     - aritméticos\n",
        "     - lógicos\n",
        "     - booleanos (and, or, not)\n",
        "- Aritmética:\n",
        "    - asignación\n",
        "    - agrupación de ecuaciones con    paréntesis (precedencia de operadores)\n",
        "- Comentarios:\n",
        "    - de simple línea\n",
        "    - de línea múltiple"
      ]
    },
    {
      "cell_type": "markdown",
      "metadata": {
        "id": "_1BYrZ-cofsP"
      },
      "source": [
        "## Tipo de dato: STRING (str)\n",
        "\n",
        "Es un tipo de dato muy versátil. Los tipos de datos en python en realidad son objetos (POO), es decir tiene atributos y métodos.\n",
        "\n",
        "Los valores internos de un str se almacenan como un arreglo. Es decir, se accede a los elementos con el operador _[indice]_"
      ]
    },
    {
      "cell_type": "code",
      "metadata": {
        "colab": {
          "base_uri": "https://localhost:8080/"
        },
        "id": "i7svlP5SpBYr",
        "outputId": "603bf098-856b-4d54-fcca-df8ac71fed4f"
      },
      "source": [
        "frase = \"El conocimiento me persigue... pero yo soy más rápido!!!\"\n",
        "#Almacenar la información\n",
        "print (frase [3])\n",
        "\n",
        "print ( len( frase ) )\n",
        "print ( frase[55] )\n",
        "\n",
        "#indexado negativo = se utiliza cuando la frase o el texto es muy largo y queremos pedir uno de los últimos elementos\n",
        "print ( frase[-8] )\n",
        "\n",
        "#iterar sobre un String\n",
        "for letra in frase:\n",
        "    print(letra)\n",
        "print(\"fin\")"
      ],
      "execution_count": null,
      "outputs": [
        {
          "output_type": "stream",
          "name": "stdout",
          "text": [
            "c\n",
            "56\n",
            "!\n",
            "á\n",
            "E\n",
            "l\n",
            " \n",
            "c\n",
            "o\n",
            "n\n",
            "o\n",
            "c\n",
            "i\n",
            "m\n",
            "i\n",
            "e\n",
            "n\n",
            "t\n",
            "o\n",
            " \n",
            "m\n",
            "e\n",
            " \n",
            "p\n",
            "e\n",
            "r\n",
            "s\n",
            "i\n",
            "g\n",
            "u\n",
            "e\n",
            ".\n",
            ".\n",
            ".\n",
            " \n",
            "p\n",
            "e\n",
            "r\n",
            "o\n",
            " \n",
            "y\n",
            "o\n",
            " \n",
            "s\n",
            "o\n",
            "y\n",
            " \n",
            "m\n",
            "á\n",
            "s\n",
            " \n",
            "r\n",
            "á\n",
            "p\n",
            "i\n",
            "d\n",
            "o\n",
            "!\n",
            "!\n",
            "!\n",
            "fin\n"
          ]
        }
      ]
    },
    {
      "cell_type": "markdown",
      "metadata": {
        "id": "T6Tx8Va1GLyU"
      },
      "source": [
        "# Slicing (rebanado)\n",
        "\n",
        "Es posible seleccionar segmentos de una lista (str) por medio de la sintaxis `[ <Inicio> : <Tope> : <Incremento> ]`\n",
        "\n",
        "Por defecto :\n",
        " - Inicio = 0, -1\n",
        " - Tope = tamaño de la lista (str), no incluye el tope, -0 ( se deja en blanco por defecto)\n",
        " - Incremento = 1, -1"
      ]
    },
    {
      "cell_type": "code",
      "metadata": {
        "colab": {
          "base_uri": "https://localhost:8080/"
        },
        "id": "HD2j0bkjG9kP",
        "outputId": "c4178f2c-1bff-4d5d-a980-11516d297753"
      },
      "source": [
        "nombre = \"Facultad de Estudios Superiores Aragón\"\n",
        "\n",
        "print( nombre[0] )\n",
        "print( nombre[-1] )\n",
        "\n",
        "#Slicing\n",
        "print( nombre[ 2 : 5 : 1] )\n",
        "print( nombre[ 0 : 8 : 1] )\n",
        "\n",
        "#Slicing con indexado negativo (-)\n",
        "print( nombre[ -6 :  : 1] )\n",
        "print( nombre[ 7 :  : -1] )\n"
      ],
      "execution_count": null,
      "outputs": [
        {
          "output_type": "stream",
          "name": "stdout",
          "text": [
            "F\n",
            "n\n",
            "cul\n",
            "Facultad\n",
            "Aragón\n",
            "datlucaF\n"
          ]
        }
      ]
    },
    {
      "cell_type": "markdown",
      "metadata": {
        "id": "lRoACt1GKdkO"
      },
      "source": [
        "# String como objeto \n",
        "\n",
        "El tipo de dato string es una clase por lo tanto tiene atributos y métodos.\n",
        "\n",
        "### Ayuda en línea de Python\n",
        "Existen 2 funciones para solicitar ayuda \n",
        " 1. dir()\n",
        " 1. help()"
      ]
    },
    {
      "cell_type": "code",
      "metadata": {
        "colab": {
          "base_uri": "https://localhost:8080/"
        },
        "id": "1JeugyQzKzf3",
        "outputId": "9edd7e48-7e5c-4257-e0d1-64fc9c10f40d"
      },
      "source": [
        "#dir es directiones\n",
        "dir(str)\n"
      ],
      "execution_count": null,
      "outputs": [
        {
          "output_type": "execute_result",
          "data": {
            "text/plain": [
              "['__add__',\n",
              " '__class__',\n",
              " '__contains__',\n",
              " '__delattr__',\n",
              " '__dir__',\n",
              " '__doc__',\n",
              " '__eq__',\n",
              " '__format__',\n",
              " '__ge__',\n",
              " '__getattribute__',\n",
              " '__getitem__',\n",
              " '__getnewargs__',\n",
              " '__gt__',\n",
              " '__hash__',\n",
              " '__init__',\n",
              " '__init_subclass__',\n",
              " '__iter__',\n",
              " '__le__',\n",
              " '__len__',\n",
              " '__lt__',\n",
              " '__mod__',\n",
              " '__mul__',\n",
              " '__ne__',\n",
              " '__new__',\n",
              " '__reduce__',\n",
              " '__reduce_ex__',\n",
              " '__repr__',\n",
              " '__rmod__',\n",
              " '__rmul__',\n",
              " '__setattr__',\n",
              " '__sizeof__',\n",
              " '__str__',\n",
              " '__subclasshook__',\n",
              " 'capitalize',\n",
              " 'casefold',\n",
              " 'center',\n",
              " 'count',\n",
              " 'encode',\n",
              " 'endswith',\n",
              " 'expandtabs',\n",
              " 'find',\n",
              " 'format',\n",
              " 'format_map',\n",
              " 'index',\n",
              " 'isalnum',\n",
              " 'isalpha',\n",
              " 'isascii',\n",
              " 'isdecimal',\n",
              " 'isdigit',\n",
              " 'isidentifier',\n",
              " 'islower',\n",
              " 'isnumeric',\n",
              " 'isprintable',\n",
              " 'isspace',\n",
              " 'istitle',\n",
              " 'isupper',\n",
              " 'join',\n",
              " 'ljust',\n",
              " 'lower',\n",
              " 'lstrip',\n",
              " 'maketrans',\n",
              " 'partition',\n",
              " 'replace',\n",
              " 'rfind',\n",
              " 'rindex',\n",
              " 'rjust',\n",
              " 'rpartition',\n",
              " 'rsplit',\n",
              " 'rstrip',\n",
              " 'split',\n",
              " 'splitlines',\n",
              " 'startswith',\n",
              " 'strip',\n",
              " 'swapcase',\n",
              " 'title',\n",
              " 'translate',\n",
              " 'upper',\n",
              " 'zfill']"
            ]
          },
          "metadata": {},
          "execution_count": 6
        }
      ]
    },
    {
      "cell_type": "code",
      "metadata": {
        "colab": {
          "base_uri": "https://localhost:8080/"
        },
        "id": "dI6mhjKrLSAD",
        "outputId": "25c73793-d7fa-40c5-ce20-35bb1968efc7"
      },
      "source": [
        "#Método capitalize, pone inicial en mayúscula al inicio de la cadena\n",
        "apellidos = \"garcía pérez\"\n",
        "print ( apellidos.capitalize() )\n",
        "#Método title, pone iniciales en mayúsculas de cada palabra en la cadena\n",
        "print ( apellidos.title() )\n",
        "#Método find, da el índice del caracter\n",
        "print ( apellidos.find('a') )\n",
        "#Método lower, cambia a minúsculas y upper, a mayus\n",
        "print ( \"LOPEZ PEREZ\".lower() )\n",
        "print ( \"lopez perez\".upper() )\n",
        "\n",
        "#Método strip -quitar-, método split -dividir-\n",
        "numeros = \"             1 ,     2     ,    3      ,4,5,6   \"\n",
        "num_divididos = numeros.strip().split(',')\n",
        "print (num_divididos)\n",
        "\n",
        "'''num_divididos[0] = num_divididos[0].strip()\n",
        "num_divididos[1] = num_divididos[1].strip()\n",
        "num_divididos[2] = num_divididos[2].strip()\n",
        "num_divididos[3] = num_divididos[3].strip()\n",
        "num_divididos[4] = num_divididos[4].strip()\n",
        "num_divididos[5] = num_divididos[5].strip()\n",
        "print(num_divididos)'''\n",
        "\n",
        "#Estructura de control\n",
        "for elem in num_divididos:\n",
        "    print ( elem )\n",
        "    \n",
        "for index in range(6):\n",
        "     num_divididos[index] = num_divididos[index].strip()\n",
        "print ( num_divididos)\n"
      ],
      "execution_count": null,
      "outputs": [
        {
          "output_type": "stream",
          "name": "stdout",
          "text": [
            "García pérez\n",
            "García Pérez\n",
            "1\n",
            "lopez perez\n",
            "LOPEZ PEREZ\n",
            "['1 ', '     2     ', '    3      ', '4', '5', '6']\n",
            "1 \n",
            "     2     \n",
            "    3      \n",
            "4\n",
            "5\n",
            "6\n",
            "['1', '2', '3', '4', '5', '6']\n"
          ]
        }
      ]
    },
    {
      "cell_type": "markdown",
      "metadata": {
        "id": "tAagvzNfPXDp"
      },
      "source": [
        "#Estructuras de control\n",
        "\n",
        "## if\n",
        "\n",
        "## if-else\n",
        "\n",
        "## switch - case (en python se implementa con if)\n",
        "\n",
        "## for\n",
        "\n",
        "## while y do-while\n",
        "\n"
      ]
    },
    {
      "cell_type": "code",
      "metadata": {
        "colab": {
          "base_uri": "https://localhost:8080/"
        },
        "id": "JmKdqAqPPsZd",
        "outputId": "4327574f-35cf-4097-8792-72e6fb6c4cb6"
      },
      "source": [
        "#if\n",
        "a = 12\n",
        "b = 23\n",
        "c = 4\n",
        "print ( a > b)\n",
        "\n",
        "if a > b :\n",
        "    print (\"Estamos en el IF\")\n",
        "    print (\"A es mayor que B\")\n",
        "print (\"Fin del programa\")\n",
        "\n",
        "if c > a :\n",
        "    if c > b:\n",
        "        print (\"C es el mayor de los tres\")\n",
        "\n",
        "if c>a and c>b:\n",
        "    print (\"C es el mayor de los tres\")\n",
        "\n",
        "#if-else, programa:cual de las tres variables es mayor\n",
        "if a > b:\n",
        "    if a > c:\n",
        "        print (\"A es la mayor\")\n",
        "    else:\n",
        "        print (\"C es la mayor\")\n",
        "else:\n",
        "    if b > c:\n",
        "        print(\"B es el mayor\")\n",
        "    else: \n",
        "        print (\"C es la mayor\")\n",
        "\n",
        "#if-else (elif) (notación especial cuando se encadena un if de un else)\n",
        "if a > b:\n",
        "    if a > c:\n",
        "        print (\"A es la mayor\")\n",
        "    else:\n",
        "        print (\"C es la mayor\")\n",
        "elif b > c:\n",
        "        print(\"B es el mayor\")\n",
        "else: \n",
        "        print (\"C es la mayor\")\n",
        "\n",
        "#pedir al usuario un numero entre 1 y 7, e imprimir el dia de la semana\n",
        "opcion = int(input(\"Introduce un número entre 1 y 7:\"))\n",
        "\n",
        "if opcion > 0 and opcion < 8:\n",
        "    if opcion == 1:\n",
        "        print(\"Lunes\")\n",
        "    elif opcion == 2:\n",
        "        print(\"Martes\")\n",
        "    elif opcion == 3:\n",
        "        print(\"Miércoles\")\n",
        "    elif opcion == 4:\n",
        "        print(\"Jueves\")\n",
        "    elif opcion == 5:\n",
        "        print(\"Viernes\")\n",
        "    elif opcion == 6:\n",
        "        print(\"Sábado\")\n",
        "    elif opcion == 7:\n",
        "        print(\"Domingo\")\n",
        "else: \n",
        "    print(\"Tu dato no se encuentra en el rango solicitado\")\n"
      ],
      "execution_count": null,
      "outputs": [
        {
          "output_type": "stream",
          "name": "stdout",
          "text": [
            "False\n",
            "Fin del programa\n",
            "B es el mayor\n",
            "B es el mayor\n",
            "Introduce un número entre 1 y 7:6\n",
            "Sábado\n"
          ]
        }
      ]
    },
    {
      "cell_type": "code",
      "metadata": {
        "colab": {
          "base_uri": "https://localhost:8080/"
        },
        "id": "PQXT1TOmUy9V",
        "outputId": "45db814f-adb6-419d-c5b5-0b2690e902ee"
      },
      "source": [
        "#FOR y range() (función que te proporciona un enumerado)\n",
        "\n",
        "algo = range(4,10,2)\n",
        "frutas = [ 'pera', 'manzana', 'aguacate', 'kiwi', 'platano' ]\n",
        "nombre = \"Santiago\"\n",
        "print(algo)\n",
        "\n",
        "for x in algo: #for(int x = 4; x<10; x+=2)\n",
        "    print (x)\n",
        "\n",
        "for index in range(0, 5, 1):\n",
        "    print (frutas[index])\n",
        "\n",
        "#FOR e iteradores (for-each)\n",
        "for fruit in frutas:\n",
        "    print ( fruit )\n",
        "\n",
        "for letra in nombre:\n",
        "    print (letra.upper())\n"
      ],
      "execution_count": null,
      "outputs": [
        {
          "output_type": "stream",
          "name": "stdout",
          "text": [
            "range(4, 10, 2)\n",
            "4\n",
            "6\n",
            "8\n",
            "pera\n",
            "manzana\n",
            "aguacate\n",
            "kiwi\n",
            "platano\n",
            "pera\n",
            "manzana\n",
            "aguacate\n",
            "kiwi\n",
            "platano\n",
            "S\n",
            "A\n",
            "N\n",
            "T\n",
            "I\n",
            "A\n",
            "G\n",
            "O\n"
          ]
        }
      ]
    },
    {
      "cell_type": "code",
      "metadata": {
        "colab": {
          "base_uri": "https://localhost:8080/"
        },
        "id": "SHrJTsBkX8d4",
        "outputId": "e98cb4f3-642c-4cf6-b872-1d8589975451"
      },
      "source": [
        "#while (misma estructura que en otros lenguajes)\n",
        "#Programa que imprima del 1 al 10\n",
        "\n",
        "control = 1\n",
        "\n",
        "while control <= 10:\n",
        "    print(control)\n",
        "    control += 1"
      ],
      "execution_count": null,
      "outputs": [
        {
          "output_type": "stream",
          "name": "stdout",
          "text": [
            "1\n",
            "2\n",
            "3\n",
            "4\n",
            "5\n",
            "6\n",
            "7\n",
            "8\n",
            "9\n",
            "10\n"
          ]
        }
      ]
    },
    {
      "cell_type": "markdown",
      "metadata": {
        "id": "_ZaG_bnWY9_U"
      },
      "source": [
        "#Funciones\n",
        "\n",
        "Es un argumento de código que recibe cero o más valores de entrada, realiza un conjunto de operaciones de forma interna y regresa un solo tipo de dato. Aunque ese valor sea None(void).\n",
        "\n",
        "Las funciones se declaran con la palabra reservada **def**"
      ]
    },
    {
      "cell_type": "code",
      "metadata": {
        "colab": {
          "base_uri": "https://localhost:8080/"
        },
        "id": "YA1kbYV-ZRR_",
        "outputId": "163a65eb-fac4-4b09-d683-70c9fb15bee3"
      },
      "source": [
        "#Funcion suma\n",
        "\n",
        "def suma (a,b):\n",
        "    c = 0\n",
        "    c = a + b\n",
        "    return c\n",
        "print (suma(4,5)) \n",
        "\n",
        "#Función para saludar\n",
        "def saludar (nombre):\n",
        "    print (f\" Hola {nombre}, ¿cómo estás?\")\n",
        "\n",
        "saludar(\"Jesús\")\n",
        "nombre = \"Santiago\"\n",
        "saludar(nombre)\n",
        "\n",
        "#Si no recibe return, da un none o vacío\n",
        "res = saludar(nombre)\n",
        "print(res)"
      ],
      "execution_count": null,
      "outputs": [
        {
          "output_type": "stream",
          "name": "stdout",
          "text": [
            "9\n",
            " Hola Jesús, ¿cómo estás?\n",
            " Hola Santiago, ¿cómo estás?\n",
            " Hola Santiago, ¿cómo estás?\n",
            "None\n"
          ]
        }
      ]
    },
    {
      "cell_type": "markdown",
      "metadata": {
        "id": "8oBvJRIvJPkH"
      },
      "source": [
        "#Default y Funciones\n",
        "\n",
        "Hay ocasiones que es necesario declarar valores por defecto en los argumentos de una función"
      ]
    },
    {
      "cell_type": "code",
      "metadata": {
        "colab": {
          "base_uri": "https://localhost:8080/"
        },
        "id": "99YrsyhEJY0k",
        "outputId": "e0bab973-4688-4fd9-cce1-aad149cfe5a9"
      },
      "source": [
        "def saludar( nombre, veces=5 ): #Asignar un valor al argumento es dar un valor por default\n",
        "    for x in range( veces ):\n",
        "        print (f\"{x}.-Hola { nombre } \")\n",
        "\n",
        "saludar (\"Juan\", 3 ) #Si no se da default, ponemos un valor al argumento cuando se llama a la función\n",
        "\n",
        "#Argumentos con llamadas NO posicionales \n",
        "saludar ( veces=6, nombre=\"Juan\" )"
      ],
      "execution_count": null,
      "outputs": [
        {
          "output_type": "stream",
          "name": "stdout",
          "text": [
            "0.-Hola Juan \n",
            "1.-Hola Juan \n",
            "2.-Hola Juan \n",
            "0.-Hola Juan \n",
            "1.-Hola Juan \n",
            "2.-Hola Juan \n",
            "3.-Hola Juan \n",
            "4.-Hola Juan \n",
            "5.-Hola Juan \n"
          ]
        }
      ]
    },
    {
      "cell_type": "markdown",
      "metadata": {
        "id": "q_5DdV3ZL8gI"
      },
      "source": [
        "#Listas, Diccionario, Tuplas y Sets\n",
        "\n",
        "\n"
      ]
    },
    {
      "cell_type": "markdown",
      "metadata": {
        "id": "-azGkHWfMGbA"
      },
      "source": [
        "#Listas\n",
        "Son estructuras de datos declaradas en Python, funcionan como los arreglos en Java y C, con algunas diferencias.\n",
        "\n",
        "*  Usan el selector [    ]\n",
        "*  Estructura secuencial (0....n)\n",
        "*  Son mutables \n",
        "*  Puede contener valores de diferentes tipos [1, \"manzana\", True, 1.23]\n",
        "*  Pueden ser anidados (Multidimensional)\n",
        "*  Se crean usando [   ] o list()\n",
        "\n"
      ]
    },
    {
      "cell_type": "code",
      "metadata": {
        "colab": {
          "base_uri": "https://localhost:8080/"
        },
        "id": "aarawnohM5ks",
        "outputId": "cdcd20df-ebfb-4781-b20b-2f0d209e1338"
      },
      "source": [
        "frutas = [ \"pera\", \"lima\", \"limón\", \"kiwi\", \"manzana\"]\n",
        "#print(frutas)\n",
        "#print (frutas[1])\n",
        "frutas[1] = \"mango\"\n",
        "#print (frutas)\n",
        "\n",
        "persona = [\"José\", 1.78, 19, False, 70.5, \"ICO\" ]\n",
        "#print(persona)\n",
        "#print (persona[-1])\n",
        "\n",
        "numeros = [2, 4, 6, 8, 10, 12, 14, 16, 18, 20]\n",
        "#print (numeros)\n",
        "\n",
        "#Slicing = lista[i,j]\n",
        "#print(numeros[4:7])\n",
        "\n",
        "#Pregunta 10\n",
        "nombres = [\"mariel\", \"sayuri\", \"iker\", \"suhail\", \"fabian\"]\n",
        "print( nombres )\n",
        "nombres.append(\"dominique\")\n",
        "print( nombres )\n",
        "nombres.remove(\"dominique\")\n",
        "print( nombres )\n",
        "print( nombres[-1] )\n",
        "print( nombres[-3] )\n",
        "\n"
      ],
      "execution_count": null,
      "outputs": [
        {
          "output_type": "stream",
          "name": "stdout",
          "text": [
            "['mariel', 'sayuri', 'iker', 'suhail', 'fabian']\n",
            "['mariel', 'sayuri', 'iker', 'suhail', 'fabian', 'dominique']\n",
            "['mariel', 'sayuri', 'iker', 'suhail', 'fabian']\n",
            "fabian\n",
            "iker\n"
          ]
        }
      ]
    },
    {
      "cell_type": "code",
      "metadata": {
        "colab": {
          "base_uri": "https://localhost:8080/"
        },
        "id": "tgqcHZwOPBTT",
        "outputId": "3bc7e335-8f3c-4618-a8b5-9621a2c646c3"
      },
      "source": [
        "#Listas multidimensionales\n",
        "bds = [\"mysql\",\"Oracle\", \"BD2\", \"Mongo\", \"SQLite\"] #0\n",
        "leng_prog = [ \"C\", \"Java\", \"JS\", \"C++\", \"C#\", \"Python\"] #1\n",
        "tecnologias = [ bds, leng_prog]\n",
        "\n",
        "print (tecnologias)\n",
        "print (tecnologias[1][3]) #doble índice  #C++\n",
        "print (tecnologias[0][4]) #SQLite #4 o -1 \n",
        "print (tecnologias[1][2:5])\n",
        "\n",
        "\n"
      ],
      "execution_count": null,
      "outputs": [
        {
          "output_type": "stream",
          "name": "stdout",
          "text": [
            "[['mysql', 'Oracle', 'BD2', 'Mongo', 'SQLite'], ['C', 'Java', 'JS', 'C++', 'C#', 'Python']]\n",
            "C++\n",
            "SQLite\n",
            "['JS', 'C++', 'C#']\n"
          ]
        }
      ]
    },
    {
      "cell_type": "markdown",
      "metadata": {
        "id": "iDuvo8dhSpQE"
      },
      "source": [
        "#La clase LIT\n",
        "El tipo de dato lit en realidad es una clase que tiene metodos.\n"
      ]
    },
    {
      "cell_type": "code",
      "metadata": {
        "colab": {
          "base_uri": "https://localhost:8080/"
        },
        "id": "nGZI4WQmS0Tk",
        "outputId": "36b40c76-5a9a-4279-ff1c-897bb7d5805d"
      },
      "source": [
        "numeros = [100, 23, 45, 23, 55, 1, 22, 101, 99, 10, 13]\n",
        "type( numeros ) #Da tipo de datos\n",
        "dir( numeros ) #metodos \n",
        "print( numeros.sort() ) #internamente lo arregla y da un none\n",
        "print( numeros )\n",
        "numeros.reverse()\n",
        "print( numeros )\n",
        "\n",
        "#eliminar elementos de un arreglo\n",
        "\n",
        "#forma 1: método remove\n",
        "numeros.remove(55)\n",
        "print( numeros )\n",
        "\n",
        "#forma 2: operador del\n",
        "del numeros[3]\n",
        "print( numeros )\n",
        "\n",
        "#Agrega elementos al final: append\n",
        "numeros.append(0)\n",
        "numeros.append(33)\n",
        "numeros.sort()\n",
        "numeros.reverse()\n",
        "print( numeros )\n",
        "\n",
        "#Insert: valor en pocisión específicca\n",
        "numeros.insert(3, 60) #primer número, posición, segundo número, el que queremos poner\n",
        "print ( numeros )\n",
        "\n",
        "#método pop, su valor por defecto es 1\n",
        "n = numeros.pop()\n",
        "print(n)\n",
        "print(numeros)\n",
        "n = numeros.pop(1)\n",
        "print(n)\n",
        "print(numeros)\n",
        "\n",
        "#extends, unir 2 listas\n",
        "mas_numeros = [400, 500, 600, 700]\n",
        "numeros.extend(mas_numeros)\n",
        "print(numeros)\n",
        "print( numeros.sort() )\n",
        "print( numeros )\n",
        "\n",
        "#clear\n",
        "#numeros.clear()\n",
        "print ( numeros )\n",
        "\n",
        "#Listas y la estructura de control for\n",
        "for num in numeros:\n",
        "    print(f\"--> {num} <--\")"
      ],
      "execution_count": null,
      "outputs": [
        {
          "output_type": "stream",
          "name": "stdout",
          "text": [
            "None\n",
            "[1, 10, 13, 22, 23, 23, 45, 55, 99, 100, 101]\n",
            "[101, 100, 99, 55, 45, 23, 23, 22, 13, 10, 1]\n",
            "[101, 100, 99, 45, 23, 23, 22, 13, 10, 1]\n",
            "[101, 100, 99, 23, 23, 22, 13, 10, 1]\n",
            "[101, 100, 99, 33, 23, 23, 22, 13, 10, 1, 0]\n",
            "[101, 100, 99, 60, 33, 23, 23, 22, 13, 10, 1, 0]\n",
            "0\n",
            "[101, 100, 99, 60, 33, 23, 23, 22, 13, 10, 1]\n",
            "100\n",
            "[101, 99, 60, 33, 23, 23, 22, 13, 10, 1]\n",
            "[101, 99, 60, 33, 23, 23, 22, 13, 10, 1, 400, 500, 600, 700]\n",
            "None\n",
            "[1, 10, 13, 22, 23, 23, 33, 60, 99, 101, 400, 500, 600, 700]\n",
            "[1, 10, 13, 22, 23, 23, 33, 60, 99, 101, 400, 500, 600, 700]\n",
            "--> 1 <--\n",
            "--> 10 <--\n",
            "--> 13 <--\n",
            "--> 22 <--\n",
            "--> 23 <--\n",
            "--> 23 <--\n",
            "--> 33 <--\n",
            "--> 60 <--\n",
            "--> 99 <--\n",
            "--> 101 <--\n",
            "--> 400 <--\n",
            "--> 500 <--\n",
            "--> 600 <--\n",
            "--> 700 <--\n"
          ]
        }
      ]
    },
    {
      "cell_type": "markdown",
      "metadata": {
        "id": "49yyRlumYCof"
      },
      "source": [
        "#Diccionarios\n",
        "\n",
        "*  Estructura no lineal\n",
        "*  Formada por pares llave-valor\n",
        "   {\"key\":valor}\n",
        "*  Donde valor puede ser de cualquier tipo -int,float,list,diccionario,etc-\n",
        "*  NO se selecciona con [ ], es por llave {key}\n",
        "*  Si son mutables\n"
      ]
    },
    {
      "cell_type": "code",
      "metadata": {
        "colab": {
          "base_uri": "https://localhost:8080/"
        },
        "id": "wyGUssBtYjJ_",
        "outputId": "808aa24a-4dd5-487a-a6d1-25fb2207d382"
      },
      "source": [
        "persona = {\"nombre\": \"José\", \"edad\": 19, \"estatura\": 1.70}\n",
        "print( persona )\n",
        "print(f\"La estatura es: {persona['estatura'] } metros\")\n",
        "\n",
        "estudiante = {\n",
        "\"nombre\" : { \"nombres\" : [\"Juan\", \"Jose\"] ,\n",
        "\"paterno\" : \"Pérez\" ,\n",
        "\"materno\" : \" Garcia\"\n",
        "} ,\n",
        "\"edad\" : 19 ,\n",
        "\"estatura\" : 1.7,\n",
        "\"carrera\" : {\n",
        "\"escuala\" : \"UNAM FES Aragón\",\n",
        "\"Carrera\" : \"ICO\",\n",
        "\"semestre\" : 2\n",
        "},\n",
        "\"direccion\" : {\n",
        "\"calle\" : \"Colorines\",\n",
        "\"num_exterior\" : 34,\n",
        "\"interior\" : \"apartmento B\"\n",
        "},\n",
        "\"telefonos\" : {\n",
        "\"casa\" : 556463663,\n",
        "\"calular\" : [\"+5255767664\" , \"+52557373773\"]\n",
        "}\n",
        "\n",
        "}\n",
        "\n",
        "\n",
        "# ejemplo\n",
        "print(estudiante['direccion']['calle'])\n"
      ],
      "execution_count": 56,
      "outputs": [
        {
          "output_type": "stream",
          "name": "stdout",
          "text": [
            "{'nombre': 'José', 'edad': 19, 'estatura': 1.7}\n",
            "La estatura es: 1.7 metros\n",
            "Colorines\n"
          ]
        }
      ]
    },
    {
      "cell_type": "markdown",
      "metadata": {
        "id": "Aed_Kj5sKlSa"
      },
      "source": [
        "#Módulos\n",
        "\n",
        "Un módulo en Python es equivalente a un package en java o a un archivo .H en lenguaje C.\n",
        "En él, declaras código que queiras llamar varias veces, este cpodigo debe estar empaquetado principalmente en funciones. Son recursos utilizables que contienen varias funciones que pueden ser importadas a tu código\n"
      ]
    },
    {
      "cell_type": "code",
      "metadata": {
        "colab": {
          "base_uri": "https://localhost:8080/"
        },
        "id": "STZtcPxlNsMx",
        "outputId": "cb5c5444-f322-478d-9275-cc5f86a95818"
      },
      "source": [
        "\"\"\"\n",
        "Se utilizan las funciones que tenemos en un archivo a parte, \n",
        "para no iniciar de 0\n",
        "\n",
        "\"\"\"\n",
        "import mimodulo\n",
        "\n",
        "mimodulo.mi_suma( 3 , 4 )\n",
        "\n",
        "mimodulo.mi_print(\"Ola k ase\")\n",
        "mimodulo.al_reves(\"Ola k ase\")\n",
        "\n"
      ],
      "execution_count": null,
      "outputs": [
        {
          "output_type": "stream",
          "name": "stdout",
          "text": [
            "Haciendo una suma\n",
            "La suma de 3 + 4 = 7\n",
            "OLA K ASE\n",
            "esa k alO\n"
          ]
        }
      ]
    },
    {
      "cell_type": "code",
      "metadata": {
        "colab": {
          "base_uri": "https://localhost:8080/"
        },
        "id": "4iuXY9OpQ4Bt",
        "outputId": "474133f2-2bd2-44c6-c6d8-ce6309b95c78"
      },
      "source": [
        "#Forma más sencilla de utilizar las funciones\n",
        "from mimodulo import mi_print\n",
        "mi_print(\"Hola de new mi chavo\")\n",
        "\n",
        "from mimodulo import mi_suma\n",
        "mi_suma( 5 , 6)\n",
        "\n",
        "from mimodulo import al_reves\n",
        "al_reves(\"Hola de new mi chavo\")"
      ],
      "execution_count": null,
      "outputs": [
        {
          "output_type": "stream",
          "name": "stdout",
          "text": [
            "HOLA DE NEW MI CHAVO\n",
            "Haciendo una suma\n",
            "La suma de 5 + 6 = 11\n",
            "ovahc im wen ed aloH\n"
          ]
        }
      ]
    },
    {
      "cell_type": "code",
      "metadata": {
        "colab": {
          "base_uri": "https://localhost:8080/"
        },
        "id": "9tQr2tk1SDaQ",
        "outputId": "29881e15-161a-4846-cc71-655690c82bae"
      },
      "source": [
        "import sys #modulo del lenguaje py\n",
        "#dir(sys)\n",
        "print( sys.path )\n"
      ],
      "execution_count": null,
      "outputs": [
        {
          "output_type": "stream",
          "name": "stdout",
          "text": [
            "['', '/content', '/env/python', '/usr/lib/python37.zip', '/usr/lib/python3.7', '/usr/lib/python3.7/lib-dynload', '/usr/local/lib/python3.7/dist-packages', '/usr/lib/python3/dist-packages', '/usr/local/lib/python3.7/dist-packages/IPython/extensions', '/root/.ipython']\n"
          ]
        }
      ]
    },
    {
      "cell_type": "code",
      "metadata": {
        "colab": {
          "base_uri": "https://localhost:8080/"
        },
        "id": "Ni21d-RET09z",
        "outputId": "51918b33-a59e-4f7e-f5ca-b34b33dcdd5b"
      },
      "source": [
        "!pip install simple-chalk #programa de python para instalar modulos\n"
      ],
      "execution_count": null,
      "outputs": [
        {
          "output_type": "stream",
          "name": "stdout",
          "text": [
            "Requirement already satisfied: simple-chalk in /usr/local/lib/python3.7/dist-packages (0.1.0)\n"
          ]
        }
      ]
    },
    {
      "cell_type": "code",
      "metadata": {
        "colab": {
          "base_uri": "https://localhost:8080/"
        },
        "id": "h49qCoCmUXNe",
        "outputId": "2a37f503-707a-414d-aa51-0f1327be10f7"
      },
      "source": [
        "from simple_chalk import *\n",
        "print( chalk.blue(\"Texto en azul\") )\n",
        "\n",
        "whyNot = green.bgWhite.red.bgWhite\n",
        "print(whyNot(\"this is red text with a gray background\"))\n",
        "verde_sobre_negro = green.bgBlack\n",
        "print(verde_sobre_negro(\"test\"))"
      ],
      "execution_count": null,
      "outputs": [
        {
          "output_type": "stream",
          "name": "stdout",
          "text": [
            "\u001b[34mTexto en azul\u001b[0m\n",
            "\u001b[31;47mthis is red text with a gray background\u001b[0m\n",
            "\u001b[32;40mtest\u001b[0m\n"
          ]
        }
      ]
    },
    {
      "cell_type": "markdown",
      "metadata": {
        "id": "djwcoA7IW8Ix"
      },
      "source": [
        "#Archivos\n",
        "\n",
        "Para abrir un archivo se utiliza la función open('nombre','AB')\n",
        "\n",
        "nombre = la ruta del archivo\n",
        "A = modo de apertur (lectura (r), escritura(w), ambas(a), etc)\n",
        "B = Formato (texto (t) o binario (b)\n",
        "\n",
        "- read()\n",
        "- readline()\n",
        "- readlines()\n"
      ]
    },
    {
      "cell_type": "code",
      "metadata": {
        "colab": {
          "base_uri": "https://localhost:8080/"
        },
        "id": "I4TCSejzY0QX",
        "outputId": "29c8c165-3498-4c60-c97e-9bfa195abb64"
      },
      "source": [
        "!cat datos.dat"
      ],
      "execution_count": null,
      "outputs": [
        {
          "output_type": "stream",
          "name": "stdout",
          "text": [
            "1,2,3,4,5,6,7\r\n",
            "8,9,10\r\n",
            "11,12\r\n",
            "13"
          ]
        }
      ]
    },
    {
      "cell_type": "code",
      "metadata": {
        "colab": {
          "base_uri": "https://localhost:8080/"
        },
        "id": "cYnaC2WkYG2M",
        "outputId": "625b2e6a-afc6-4031-a2e5-9aa45a2e2290"
      },
      "source": [
        "\"\"\"\n",
        "1,2,3,4,5,6,7\n",
        "8,9,10\n",
        "11,12\n",
        "13\n",
        "\"\"\"\n",
        "#Función read\n",
        "archivo = open('datos.dat', 'rt')\n",
        "info = archivo.read()\n",
        "print( info )\n",
        "\n",
        "#readline()\n",
        "print(\"------readline------\")\n",
        "archivo = open('datos.dat', 'rt')\n",
        "info = archivo.readline()\n",
        "print ( info )\n",
        "info = archivo.readline()\n",
        "print ( info )\n",
        "\n",
        "#readlines()\n",
        "print(\"------readlines------\")\n",
        "archivo = open('datos.dat', 'rt')\n",
        "info = archivo.readlines()\n",
        "print ( info )\n",
        "\n",
        "#quitar los saltos de línea y asignarlo a la misma posición\n",
        "for index in range( len(info)):\n",
        "    info[index] = info[index].strip()\n",
        "print ( info )\n",
        "\n",
        "numeros = []\n",
        "for grupo in info: \n",
        "    for numero in grupo.split(','):\n",
        "        numeros.append( int(numero) )\n",
        "print(numeros)\n",
        "\n",
        "suma = 0\n",
        "for num in numeros:\n",
        "    suma += num\n",
        "print( suma )\n",
        "\n",
        "\n"
      ],
      "execution_count": null,
      "outputs": [
        {
          "output_type": "stream",
          "name": "stdout",
          "text": [
            "1,2,3,4,5,6,7\n",
            "8,9,10\n",
            "11,12\n",
            "13\n",
            "------readline------\n",
            "1,2,3,4,5,6,7\n",
            "\n",
            "8,9,10\n",
            "\n",
            "------readlines------\n",
            "['1,2,3,4,5,6,7\\n', '8,9,10\\n', '11,12\\n', '13']\n",
            "['1,2,3,4,5,6,7', '8,9,10', '11,12', '13']\n",
            "[1, 2, 3, 4, 5, 6, 7, 8, 9, 10, 11, 12, 13]\n",
            "91\n"
          ]
        }
      ]
    },
    {
      "cell_type": "markdown",
      "metadata": {
        "id": "C7IbnpnVdFnR"
      },
      "source": [
        "Tarea:\n",
        "Suma por renglón, por columna y total"
      ]
    },
    {
      "cell_type": "markdown",
      "metadata": {
        "id": "_pFAUlLGfDf8"
      },
      "source": [
        "#POO en Python\n",
        "\n",
        "Es un paradigma no soportado originalmente por Python. Paradigma imperativo. \n",
        "\n",
        "1. Forma 1\n",
        "\n",
        "Python simula la POO con la declaración de clases y haciendo referencia a un objeto de forma circular.\n",
        "\n",
        "``\n",
        "class <Nombre de la clase>:\n",
        "      <definicion de la clase>\n",
        "´\n",
        "2. Forma 2\n",
        "\n",
        "``\n",
        "class <nombre de la clase>(<Super clase>):     <definicion del cuerpo de la clase>\n",
        "`\n",
        "\n",
        "3. Constructor\n",
        "\n",
        "Se define siempre con el método __init__{}\n",
        "(DOBLE GUIÓN BAJO ANTES Y DESPUÉS DE INIT)\n",
        "\n",
        "La declaración de atributos se realiza por medio de el constructor.\n",
        "\n",
        "Para hacer encapsulamiento de métodos o atributos se debe poner __ (DOBLE GUIÓN BAJO) previo a la declaración del atributo o método\n"
      ]
    },
    {
      "cell_type": "code",
      "metadata": {
        "id": "qZInbrslhl8h"
      },
      "source": [
        "class Persona:\n",
        "    def __init__( self, n, e, est ):  #Todos los métodos deben recibir 1ro el objeto:self \n",
        "       self.__nombre = n\n",
        "       self.__edad = e\n",
        "       self.__estatura = est\n",
        "    \n",
        "    def to_string( self ):\n",
        "        return \"Nombre: \" + self.__nombre + \" \\nEdad: \" + str(self.__edad) + \" \\nEstatura: \" + str(self.__estatura)\n",
        "    \n",
        "    def set_estatura (self, nueva_est):\n",
        "        if nueva_est > 0.10 and nueva_est < 2.5 :\n",
        "            self.__estatura = nueva_est \n",
        "        else:\n",
        "            print (\"Error: Esa estatura no es posible\")\n",
        "    \n",
        "    def get_estatura( self ):\n",
        "        return self.__estatura\n"
      ],
      "execution_count": 33,
      "outputs": []
    },
    {
      "cell_type": "code",
      "metadata": {
        "colab": {
          "base_uri": "https://localhost:8080/"
        },
        "id": "i-dJt_KxirNA",
        "outputId": "f81907c3-cc83-4abc-fc70-5aa83b57a646"
      },
      "source": [
        "per = Persona(\"Jose\", 18, 1.70)\n",
        "print (per.to_string())\n",
        "\n",
        "#Encapsulamiento\n",
        "\n",
        "per.nombre = \"Pedro\" #No se recomienda, están abiertos a modificación\n",
        "print (per.to_string())\n",
        "\n",
        "#per.estatura = 3.9\n",
        "per.set_estatura(3.9)\n",
        "print ( per.to_string() )\n",
        "\n",
        "print (\"Estatura: \", end=\"\")\n",
        "#print(per.__estatura)\n",
        "print( per.get_estatura() )"
      ],
      "execution_count": 35,
      "outputs": [
        {
          "output_type": "stream",
          "name": "stdout",
          "text": [
            "Nombre: Jose \n",
            "Edad: 18 \n",
            "Estatura: 1.7\n",
            "Nombre: Jose \n",
            "Edad: 18 \n",
            "Estatura: 1.7\n",
            "Error: Esa estatura no es posible\n",
            "Nombre: Jose \n",
            "Edad: 18 \n",
            "Estatura: 1.7\n",
            "Estatura: 1.7\n"
          ]
        }
      ]
    },
    {
      "cell_type": "code",
      "metadata": {
        "id": "b6-Xq4PBqreQ"
      },
      "source": [
        "#Herencia\n",
        "class Estudiante( Persona ):\n",
        "    def __init__( self, nc, nombre, edad, est):\n",
        "        self.__num_cta = nc\n",
        "        super().__init__(nombre, edad, est)\n",
        "    def to_string ( self ):\n",
        "        return super().to_string() + \" \\nNúmero de cuenta:  \" + self.__num_cta\n"
      ],
      "execution_count": 59,
      "outputs": []
    },
    {
      "cell_type": "code",
      "metadata": {
        "colab": {
          "base_uri": "https://localhost:8080/"
        },
        "id": "DrGC6FigrG1g",
        "outputId": "fc576977-b638-4b72-eb0f-a1341459c846"
      },
      "source": [
        "est = Estudiante(\"202120202\", \"José\", 18, 1.70)\n",
        "print( est.to_string() )"
      ],
      "execution_count": 60,
      "outputs": [
        {
          "output_type": "stream",
          "name": "stdout",
          "text": [
            "Nombre: José \n",
            "Edad: 18 \n",
            "Estatura: 1.7 \n",
            "Número de cuenta:  202120202\n"
          ]
        }
      ]
    }
  ]
}