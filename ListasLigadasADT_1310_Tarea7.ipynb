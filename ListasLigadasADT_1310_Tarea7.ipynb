{
  "nbformat": 4,
  "nbformat_minor": 0,
  "metadata": {
    "colab": {
      "name": "ListasLigadasADT_1310/Tarea7.ipynb",
      "provenance": [],
      "collapsed_sections": [],
      "include_colab_link": true
    },
    "kernelspec": {
      "name": "python3",
      "display_name": "Python 3"
    },
    "language_info": {
      "name": "python"
    }
  },
  "cells": [
    {
      "cell_type": "markdown",
      "metadata": {
        "id": "view-in-github",
        "colab_type": "text"
      },
      "source": [
        "<a href=\"https://colab.research.google.com/github/Sayyy-creator-bit/Sayyy-creator-bit/blob/main/ListasLigadasADT_1310_Tarea7.ipynb\" target=\"_parent\"><img src=\"https://colab.research.google.com/assets/colab-badge.svg\" alt=\"Open In Colab\"/></a>"
      ]
    },
    {
      "cell_type": "markdown",
      "metadata": {
        "id": "1d7nERIbdc47"
      },
      "source": [
        "#Ejercicios con la clase NODO\n",
        "\n",
        "- Crear un nodo\n",
        "  - Imrpimir el valor del nodo\n",
        "- Crear dos nodos\n",
        "  - Imprimir el valor del primero\n",
        "  - Imprimir el valor del segundo\n",
        "  - Transversal\n",
        "- Lo anterior, pero con cuatro nodos (10, 20, 30, 40)\n",
        "  - Imprimir el valor del primero\n",
        "  - Imprimir el valor del último\n",
        "  - Transversal\n",
        "  - Insertar el nodo 25, despuès del nodo 20 y antes del nodo 30\n",
        "#### Todo esto se hará antes de ir a la escritura formal del ADT Lista Ligada\n"
      ]
    },
    {
      "cell_type": "code",
      "metadata": {
        "id": "s8Qb5FGsVny6"
      },
      "source": [
        "class Nodo:\n",
        "    def __init__(self, value, siguiente = None ):\n",
        "        self.data = value\n",
        "        self.next = siguiente"
      ],
      "execution_count": 14,
      "outputs": []
    },
    {
      "cell_type": "code",
      "metadata": {
        "colab": {
          "base_uri": "https://localhost:8080/"
        },
        "id": "XvrKjDWCelil",
        "outputId": "d565b282-c7ea-4984-8dcb-70076dd76f0a"
      },
      "source": [
        "#crear el nodo\n",
        "head = Nodo(10)\n",
        "print( head.data )"
      ],
      "execution_count": 15,
      "outputs": [
        {
          "output_type": "stream",
          "name": "stdout",
          "text": [
            "10\n"
          ]
        }
      ]
    },
    {
      "cell_type": "code",
      "metadata": {
        "colab": {
          "base_uri": "https://localhost:8080/"
        },
        "id": "IfnK1m5Qe6DT",
        "outputId": "e27ffc65-5e00-4792-a7c6-c9f1c3c13e5f"
      },
      "source": [
        "head = Nodo(10)\n",
        "head.next = Nodo(20)\n",
        "print(f\"Primero={head.data}\")\n",
        "print(f\"Segundo={head.next.data}\")\n",
        "\n",
        "#Para ahorrar código\n",
        "head = Nodo( 10, Nodo(20))\n",
        "print(f\"Primero={head.data}\")\n",
        "print(f\"Segundo={head.next.data}\")\n",
        "\n",
        "#Transversal\n",
        "curr_node = head\n",
        "while curr_node != None:\n",
        "    print(f\"{curr_node.data}) |  --> \" , end=\"\")\n",
        "    curr_node = curr_node.next\n",
        "print(\"\")\n"
      ],
      "execution_count": 16,
      "outputs": [
        {
          "output_type": "stream",
          "name": "stdout",
          "text": [
            "Primero=10\n",
            "Segundo=20\n",
            "Primero=10\n",
            "Segundo=20\n",
            "10) |  --> 20) |  --> \n"
          ]
        }
      ]
    },
    {
      "cell_type": "code",
      "metadata": {
        "colab": {
          "base_uri": "https://localhost:8080/"
        },
        "id": "ZRFyruEMimCB",
        "outputId": "cb66dcaa-6fa4-4b0c-cdc8-8c31e83139d3"
      },
      "source": [
        "head = Nodo (10, Nodo(20, Nodo(30, Nodo(40))))\n",
        "#Transversal\n",
        "curr_node = head\n",
        "while curr_node != None:\n",
        "    print(f\"{curr_node.data}) |  --> \" , end=\"\")\n",
        "    curr_node = curr_node.next\n",
        "print(\"\")\n",
        "\n",
        "#Imprimir el primero\n",
        "print(head.data)\n",
        "\n",
        "#Imprimir el último\n",
        "curr_node = head\n",
        "while curr_node.data != 20:\n",
        "    curr_node = curr_node.next\n",
        "print(curr_node.data)\n",
        "\n",
        "#Crear el nodo 25\n",
        "curr_node.next = Nodo(25, curr_node.next)\n",
        "print(\"Después de insertar 25\")\n",
        "\n",
        "#Transversal\n",
        "curr_node = head\n",
        "while curr_node != None:\n",
        "    print(f\"{curr_node.data}) |  --> \" , end=\"\")\n",
        "    curr_node = curr_node.next\n",
        "print(\"\")\n"
      ],
      "execution_count": 17,
      "outputs": [
        {
          "output_type": "stream",
          "name": "stdout",
          "text": [
            "10) |  --> 20) |  --> 30) |  --> 40) |  --> \n",
            "10\n",
            "20\n",
            "Después de insertar 25\n",
            "10) |  --> 20) |  --> 25) |  --> 30) |  --> 40) |  --> \n"
          ]
        }
      ]
    },
    {
      "cell_type": "code",
      "metadata": {
        "id": "MmAkigmVkLgE"
      },
      "source": [
        "class LinkedList:\n",
        "    def __init__(self):\n",
        "        self.head = None\n",
        "\n",
        "    #True or false\n",
        "    def is_empty(self): \n",
        "        return self.head == None\n",
        "    \n",
        "    def get_tail(self):\n",
        "        if self.is_empty():\n",
        "            return None\n",
        "        else:\n",
        "            curr_node = self.head\n",
        "            while curr_node.next != None:\n",
        "                curr_node = curr_node.next\n",
        "        return curr_node\n",
        "\n",
        "    def append(self, value):\n",
        "        if self.head == None:\n",
        "           self.head = Nodo(value)\n",
        "        else: \n",
        "           curr_node = self.head\n",
        "           while curr_node.next != None:\n",
        "             curr_node = curr_node.next\n",
        "           curr_node.next = Nodo(value)\n",
        "    \n",
        "    def transversal(self):\n",
        "        curr_node = self.head\n",
        "        while curr_node != None:\n",
        "            print(f\"| {curr_node.data} | --> \" , end=\"\")\n",
        "            curr_node = curr_node.next\n",
        "        print(\"\")\n",
        "    \n",
        "    def remove(self, value):\n",
        "        if self.head == None:\n",
        "            print(\"Lista vacía, no se puede remover nada\")\n",
        "        else:\n",
        "            curr_node = self.head\n",
        "            aux = None\n",
        "            #Revisar cuando el valor no existe\n",
        "            while curr_node.data != value:\n",
        "                aux = curr_node\n",
        "                curr_node = curr_node.next\n",
        "            if curr_node != None:\n",
        "                aux.next = curr_node.next\n",
        "                curr_node = None\n",
        "    \n",
        "    def preppend(self, value):\n",
        "        if self.head == None:\n",
        "            print(\"Está vacío, no se puede preppend\")\n",
        "        else:\n",
        "            aux = self.head\n",
        "            self.head = Nodo(value, aux)\n",
        "    \n",
        "    def transversal(self):\n",
        "        curr_node = self.head\n",
        "        while curr_node != None:\n",
        "            print(f\"| {curr_node.data} |-->\", end='')\n",
        "            curr_node = curr_node.next\n",
        "        print('')\n",
        "    \n",
        "    def remove(self, value):\n",
        "        if self.head == None:\n",
        "            print(\"Lista vacía, no se puede remover algo\")\n",
        "        else:\n",
        "            curr_node = self.head\n",
        "            aux = None\n",
        "            while curr_node.data != value:\n",
        "                aux = curr_node\n",
        "                curr_node = curr_node.next\n",
        "            if curr_node != None:\n",
        "                aux.next = curr_node.next\n",
        "                curr_node = None\n",
        "    \n",
        "    def pop(self):\n",
        "        if self.head == None:\n",
        "            print(\"Lista vacía, no se puede eliminar el primer valor\")\n",
        "        else:\n",
        "            curr_node = self.head\n",
        "            aux = None\n",
        "            while curr_node.next != None:\n",
        "                aux = curr_node\n",
        "                curr_node = curr_node.next\n",
        "            aux.next = None\n",
        "            return curr_node.data \n",
        "    \n",
        "    def pop_first(self):\n",
        "        if self.head == None:\n",
        "            print(\"Lista vacía, no se puede eliminar el primer valor\")\n",
        "        else:\n",
        "            curr_node = self.head\n",
        "            self.head = curr_node.next\n",
        "            return curr_node.data\n"
      ],
      "execution_count": 24,
      "outputs": []
    },
    {
      "cell_type": "code",
      "metadata": {
        "colab": {
          "base_uri": "https://localhost:8080/"
        },
        "id": "9kjIV7F-nde1",
        "outputId": "937fa0e4-cdd0-4c04-95d4-1115fd420bb4"
      },
      "source": [
        "lista = LinkedList()\n",
        "if lista.is_empty():\n",
        "    print(\"La lista está vacía\")\n",
        "else:\n",
        "    print(\"La lista no está vacía\")\n",
        "\n",
        "lista.append(10)\n",
        "lista.append(20)\n",
        "lista.append(30)\n",
        "lista.append(40)\n",
        "lista.append(50)\n",
        "\n",
        "nodo = lista.get_tail()\n",
        "if nodo != None:\n",
        "    print(nodo.data)\n",
        "else: \n",
        "    print(\"La lista está vacía\")\n",
        "\n",
        "lista.transversal()\n",
        "lista.remove(30)\n",
        "lista.transversal()\n",
        "lista.preppend(0)\n",
        "print(\"Después del preppend\")\n",
        "lista.transversal()\n",
        "print(f\"Eliminado: {lista.pop()}\")\n",
        "lista.transversal()\n",
        "print(f\"Eliminado pop first: {lista.pop_first()}\")\n",
        "lista.transversal()"
      ],
      "execution_count": 25,
      "outputs": [
        {
          "output_type": "stream",
          "name": "stdout",
          "text": [
            "La lista está vacía\n",
            "50\n",
            "| 10 |-->| 20 |-->| 30 |-->| 40 |-->| 50 |-->\n",
            "| 10 |-->| 20 |-->| 40 |-->| 50 |-->\n",
            "Después del preppend\n",
            "| 0 |-->| 10 |-->| 20 |-->| 40 |-->| 50 |-->\n",
            "Eliminado: 50\n",
            "| 0 |-->| 10 |-->| 20 |-->| 40 |-->\n",
            "Eliminado pop first: 0\n",
            "| 10 |-->| 20 |-->| 40 |-->\n"
          ]
        }
      ]
    }
  ]
}