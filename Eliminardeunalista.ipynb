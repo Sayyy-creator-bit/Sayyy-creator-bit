{
  "nbformat": 4,
  "nbformat_minor": 0,
  "metadata": {
    "colab": {
      "name": "Eliminardeunalista.ipynb",
      "provenance": [],
      "authorship_tag": "ABX9TyN3rVKPf0APu2Kj4amANr+B",
      "include_colab_link": true
    },
    "kernelspec": {
      "name": "python3",
      "display_name": "Python 3"
    },
    "language_info": {
      "name": "python"
    }
  },
  "cells": [
    {
      "cell_type": "markdown",
      "metadata": {
        "id": "view-in-github",
        "colab_type": "text"
      },
      "source": [
        "<a href=\"https://colab.research.google.com/github/Sayyy-creator-bit/Sayyy-creator-bit/blob/main/Eliminardeunalista.ipynb\" target=\"_parent\"><img src=\"https://colab.research.google.com/assets/colab-badge.svg\" alt=\"Open In Colab\"/></a>"
      ]
    },
    {
      "cell_type": "code",
      "metadata": {
        "colab": {
          "base_uri": "https://localhost:8080/"
        },
        "id": "JlCisLwh2DMA",
        "outputId": "3fe41476-c8fd-4f1f-bad6-a4fcdaa2ecd6"
      },
      "source": [
        "def mostrarlistaRec(lista, index):\n",
        "\n",
        "    if index != len(lista):\n",
        "        print(lista[index])\n",
        "        mostrarlistaRec(lista, index + 1)\n",
        "\n",
        "lista = [0, 1, 2, 3, 4, 5, 6, 7, 8, 9, 10]\n",
        "mostrarlistaRec(lista, 0)\n"
      ],
      "execution_count": 17,
      "outputs": [
        {
          "output_type": "stream",
          "name": "stdout",
          "text": [
            "0\n",
            "1\n",
            "2\n",
            "3\n",
            "4\n",
            "5\n",
            "6\n",
            "7\n",
            "8\n",
            "9\n",
            "10\n"
          ]
        }
      ]
    },
    {
      "cell_type": "code",
      "metadata": {
        "colab": {
          "base_uri": "https://localhost:8080/"
        },
        "id": "Oe6Jqh-N2NZ-",
        "outputId": "c196bc49-a454-4038-e03b-4e89902ae5fb"
      },
      "source": [
        "#eliminar el elemento medio\n",
        "numero = lista.pop(5)\n",
        "print (lista)\n",
        "print (numero)\n"
      ],
      "execution_count": 18,
      "outputs": [
        {
          "output_type": "stream",
          "name": "stdout",
          "text": [
            "[0, 1, 2, 3, 4, 6, 7, 8, 9, 10]\n",
            "5\n"
          ]
        }
      ]
    }
  ]
}