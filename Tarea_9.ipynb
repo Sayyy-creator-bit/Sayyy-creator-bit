{
  "nbformat": 4,
  "nbformat_minor": 0,
  "metadata": {
    "colab": {
      "name": "Tarea 9.ipynb",
      "provenance": [],
      "authorship_tag": "ABX9TyNNuWC6sjAIIalh9SESShD5",
      "include_colab_link": true
    },
    "kernelspec": {
      "name": "python3",
      "display_name": "Python 3"
    },
    "language_info": {
      "name": "python"
    }
  },
  "cells": [
    {
      "cell_type": "markdown",
      "metadata": {
        "id": "view-in-github",
        "colab_type": "text"
      },
      "source": [
        "<a href=\"https://colab.research.google.com/github/Sayyy-creator-bit/Sayyy-creator-bit/blob/main/Tarea_9.ipynb\" target=\"_parent\"><img src=\"https://colab.research.google.com/assets/colab-badge.svg\" alt=\"Open In Colab\"/></a>"
      ]
    },
    {
      "cell_type": "code",
      "execution_count": 2,
      "metadata": {
        "id": "m3eHvoOpqJGh"
      },
      "outputs": [],
      "source": [
        "class StackADT: \n",
        "    def __init__( self ):\n",
        "        self.__data = list()\n",
        "    \n",
        "    def is_empty( self ):\n",
        "        return len( self.__data ) == 0\n",
        "\n",
        "    def get_lenght( self ):\n",
        "        return len( self.__data )\n",
        "\n",
        "    def pop( self ):\n",
        "        if self.is_empty():\n",
        "            print(\"Pila vacía, no hay que sacar\")\n",
        "        else:\n",
        "            return self.__data.pop()\n",
        "\n",
        "    def peek( self ):\n",
        "        if self.is_empty():\n",
        "            print(\"Pila vacía, no hay que sacar\")\n",
        "        else:\n",
        "            return self.__data[ -1 ]\n",
        "    \n",
        "    def push( self, value, ):\n",
        "        self.__data.append( value )\n",
        "\n",
        "    def to_string( self ):\n",
        "        for item in self.__data[ : :-1]:\n",
        "            print(f\"| {item} | \")"
      ]
    },
    {
      "cell_type": "code",
      "source": [
        "class Balanceo:\n",
        "    def __init__( self, codigo):\n",
        "        entrada = open(codigo, 'rt')\n",
        "        self.__data = entrada.read()\n",
        "\n",
        "    def balanceo_llaves( self ):\n",
        "        pilaControl = StackADT()\n",
        "        pilaControl.push(\"#\")\n",
        "\n",
        "        for letra in self.__data: \n",
        "            if letra == '{':\n",
        "                pilaControl.push(\"{\")\n",
        "            elif letra == '}': \n",
        "                basura = pilaControl.pop()\n",
        "            else:\n",
        "                pass \n",
        "        \n",
        "        if pilaControl.peek() == '#':\n",
        "            print(\"El codigo proporcionado esta balanceado en { y }\")\n",
        "        else:\n",
        "            print('El código proporcionado no esta balanceado en { y }')\n",
        "\n",
        "    def balanceo_parentesis( self ):\n",
        "        pilaControl = StackADT()\n",
        "        pilaControl.push(\"#\")\n",
        "\n",
        "        for letra in self.__data:\n",
        "            if letra == '(':\n",
        "                pilaControl.push(\"(\")\n",
        "            elif letra == ')': \n",
        "                basura = pilaControl.pop()\n",
        "            else:\n",
        "                pass \n",
        "        \n",
        "        if pilaControl.peek() == '#':\n",
        "            print(\"El codigo proporcionado esta balanceado en ( y )\")\n",
        "        else:\n",
        "            print('El codigo proporcionado no esta balanceado en ( y )')"
      ],
      "metadata": {
        "id": "m_L_IkfCrejH"
      },
      "execution_count": 3,
      "outputs": []
    },
    {
      "cell_type": "code",
      "source": [
        "#Código para prueba: /content/programa1.txt\n",
        "programa = Balanceo(\"programa1.txt\")\n",
        "programa.balanceo_llaves()\n",
        "programa.balanceo_parentesis()"
      ],
      "metadata": {
        "colab": {
          "base_uri": "https://localhost:8080/"
        },
        "id": "-LwzTBYgrnfl",
        "outputId": "67ff7146-eb57-4f32-c334-8828b5adddb9"
      },
      "execution_count": 4,
      "outputs": [
        {
          "output_type": "stream",
          "name": "stdout",
          "text": [
            "El codigo proporcionado esta balanceado en { y }\n",
            "El codigo proporcionado esta balanceado en ( y )\n"
          ]
        }
      ]
    }
  ]
}