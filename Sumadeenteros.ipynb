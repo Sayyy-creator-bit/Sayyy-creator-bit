{
  "nbformat": 4,
  "nbformat_minor": 0,
  "metadata": {
    "colab": {
      "name": "Sumadeenteros.ipynb",
      "provenance": [],
      "authorship_tag": "ABX9TyO4X2A4PGQUdCd1wqSD8IYB",
      "include_colab_link": true
    },
    "kernelspec": {
      "name": "python3",
      "display_name": "Python 3"
    },
    "language_info": {
      "name": "python"
    }
  },
  "cells": [
    {
      "cell_type": "markdown",
      "metadata": {
        "id": "view-in-github",
        "colab_type": "text"
      },
      "source": [
        "<a href=\"https://colab.research.google.com/github/Sayyy-creator-bit/Sayyy-creator-bit/blob/main/Sumadeenteros.ipynb\" target=\"_parent\"><img src=\"https://colab.research.google.com/assets/colab-badge.svg\" alt=\"Open In Colab\"/></a>"
      ]
    },
    {
      "cell_type": "code",
      "metadata": {
        "colab": {
          "base_uri": "https://localhost:8080/"
        },
        "id": "9uK2ZmzitRm4",
        "outputId": "89dffbfc-2466-46e2-fdf7-3fcf7a38b1d5"
      },
      "source": [
        "def mostrarlistaRec(lista, index):\n",
        "\n",
        "    if index != len(lista):\n",
        "        print(lista[index])\n",
        "        mostrarlistaRec(lista, index + 1)\n",
        "\n",
        "lista = [1, 2, 3, 4, 5, 6, 7, 8, 9, 10]\n",
        "mostrarlistaRec(lista, 0)\n"
      ],
      "execution_count": 15,
      "outputs": [
        {
          "output_type": "stream",
          "name": "stdout",
          "text": [
            "1\n",
            "2\n",
            "3\n",
            "4\n",
            "5\n",
            "6\n",
            "7\n",
            "8\n",
            "9\n",
            "10\n"
          ]
        }
      ]
    },
    {
      "cell_type": "code",
      "metadata": {
        "colab": {
          "base_uri": "https://localhost:8080/"
        },
        "id": "RtCKFWyDnMKf",
        "outputId": "6cf66807-5e35-45bb-c8ab-d964fb38e340"
      },
      "source": [
        "def sumaRec(listaRec):\n",
        "\n",
        "    if listaRec == 1:\n",
        "       return 1\n",
        "    else:\n",
        "        return listaRec + sumaRec(listaRec - 1)\n",
        "\n",
        "print(sumaRec(listaRec=10))"
      ],
      "execution_count": 16,
      "outputs": [
        {
          "output_type": "stream",
          "name": "stdout",
          "text": [
            "55\n"
          ]
        }
      ]
    }
  ]
}