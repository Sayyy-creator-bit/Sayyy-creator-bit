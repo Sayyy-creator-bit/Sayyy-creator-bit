{
  "nbformat": 4,
  "nbformat_minor": 0,
  "metadata": {
    "colab": {
      "name": "Tarea3.ipynb",
      "provenance": [],
      "authorship_tag": "ABX9TyOzRooXlw+gYeYcnl906tKs",
      "include_colab_link": true
    },
    "kernelspec": {
      "name": "python3",
      "display_name": "Python 3"
    },
    "language_info": {
      "name": "python"
    }
  },
  "cells": [
    {
      "cell_type": "markdown",
      "metadata": {
        "id": "view-in-github",
        "colab_type": "text"
      },
      "source": [
        "<a href=\"https://colab.research.google.com/github/Sayyy-creator-bit/Sayyy-creator-bit/blob/main/Tarea3.ipynb\" target=\"_parent\"><img src=\"https://colab.research.google.com/assets/colab-badge.svg\" alt=\"Open In Colab\"/></a>"
      ]
    },
    {
      "cell_type": "code",
      "metadata": {
        "id": "ar_21REQki36",
        "colab": {
          "base_uri": "https://localhost:8080/"
        },
        "outputId": "0a822896-9468-4c26-c618-20862d5dabed"
      },
      "source": [
        "#menu = { }\n",
        "#print (menu)\n",
        "\n",
        "def comanda(mesa, comensal, entrada, medio, fuerte, adicionales):\n",
        "   print(f\"Detalle:   \")\n",
        "   print(f\"\\t\\tMESA: { mesa }\")\n",
        "   print(f\"\\t\\tCOMENSAL: { comensal }\")\n",
        "   print(f\"\\t\\tENTRADA: { entrada }\")\n",
        "   print(f\"\\t\\tMEDIO: { medio }\")\n",
        "   print(f\"\\t\\tFUERTE: { fuerte }\")\n",
        "   print(f\"\\t\\tADICIONALES: { adicionales }\")\n",
        "\n",
        "comanda( mesa=3, comensal=2, entrada=\"ensalada verde\", medio=\"crema de zanahoria\",\n",
        "        fuerte=\"filete\", adicionales=\"filete término medio, la ensalada sin ningun tipo de semilla, Adereso Ranch\" )\n",
        "\n",
        "\n",
        "\n"
      ],
      "execution_count": 41,
      "outputs": [
        {
          "output_type": "stream",
          "name": "stdout",
          "text": [
            "Detalle:   \n",
            "\t\tMESA: 3\n",
            "\t\tCOMENSAL: 2\n",
            "\t\tENTRADA: ensalada verde\n",
            "\t\tMEDIO: crema de zanahoria\n",
            "\t\tFUERTE: filete\n",
            "\t\tADICIONALES: filete término medio, la ensalada sin ningun tipo de semilla, Adereso Ranch\n"
          ]
        }
      ]
    }
  ]
}