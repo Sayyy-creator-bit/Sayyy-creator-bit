{
  "nbformat": 4,
  "nbformat_minor": 0,
  "metadata": {
    "colab": {
      "name": "Seriefibonacci.ipynb",
      "provenance": [],
      "authorship_tag": "ABX9TyMkvn/M+KZbeb0+Lkl3okGh",
      "include_colab_link": true
    },
    "kernelspec": {
      "name": "python3",
      "display_name": "Python 3"
    },
    "language_info": {
      "name": "python"
    }
  },
  "cells": [
    {
      "cell_type": "markdown",
      "metadata": {
        "id": "view-in-github",
        "colab_type": "text"
      },
      "source": [
        "<a href=\"https://colab.research.google.com/github/Sayyy-creator-bit/Sayyy-creator-bit/blob/main/Seriefibonacci.ipynb\" target=\"_parent\"><img src=\"https://colab.research.google.com/assets/colab-badge.svg\" alt=\"Open In Colab\"/></a>"
      ]
    },
    {
      "cell_type": "code",
      "metadata": {
        "id": "PF7NCA3zgYZT"
      },
      "source": [
        "def fibonacci(n):\n",
        "    if n == 1 or n == 0:\n",
        "       return 1\n",
        "    if n > 1:\n",
        "        return (fibonacci(n-1) + fibonacci(n-2))"
      ],
      "execution_count": null,
      "outputs": []
    },
    {
      "cell_type": "code",
      "metadata": {
        "id": "5RXskFnWhwdG"
      },
      "source": [
        "def main():\n",
        "   for num in range(15):\n",
        "       print(str(fibonacci(num)) + \",\", end=\"\")"
      ],
      "execution_count": null,
      "outputs": []
    }
  ]
}