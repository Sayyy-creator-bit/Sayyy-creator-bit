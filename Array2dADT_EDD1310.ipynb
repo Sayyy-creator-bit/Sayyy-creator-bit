{
  "nbformat": 4,
  "nbformat_minor": 0,
  "metadata": {
    "colab": {
      "name": "Array2dADT_EDD1310.ipynb",
      "provenance": [],
      "authorship_tag": "ABX9TyPDn/p0XPtmA9EU2yooULWU",
      "include_colab_link": true
    },
    "kernelspec": {
      "name": "python3",
      "display_name": "Python 3"
    },
    "language_info": {
      "name": "python"
    }
  },
  "cells": [
    {
      "cell_type": "markdown",
      "metadata": {
        "id": "view-in-github",
        "colab_type": "text"
      },
      "source": [
        "<a href=\"https://colab.research.google.com/github/Sayyy-creator-bit/Sayyy-creator-bit/blob/main/Array2dADT_EDD1310.ipynb\" target=\"_parent\"><img src=\"https://colab.research.google.com/assets/colab-badge.svg\" alt=\"Open In Colab\"/></a>"
      ]
    },
    {
      "cell_type": "markdown",
      "metadata": {
        "id": "6grPp1dZkHXh"
      },
      "source": [
        "#Array2D\n",
        "\n",
        "\n",
        "\n",
        "*   Encapsular datos de arreglos, considerados como renglones y columnas\n",
        "\n",
        "*  Para acceder a un elemento, se selecciona primero el renglón y luego la columna (ren, col) \n",
        "\n",
        "##Métodos\n",
        "\n",
        "\n",
        "1.   Array2D ( ren, col) = estructura estática y lineal \n",
        "2.   clear ( dato ). Todos los valores del arrgelo al valor \"dato\"\n",
        "3. get_row_size(). Tamaño de renglones\n",
        "4. get_col_size(). Tamaño de columnas\n",
        "5. set_item( ren, col, dato). \"dato\" en la posición de ren y col\n",
        "6. get_item ( ren, col ). Regresa el valor en la posición ren y col\n",
        "7. to_string(). Regresa un objeto string que representa el estado actual de un objeto\n",
        "\n",
        "\n",
        "\n",
        "\n",
        "\n",
        "\n",
        "\n"
      ]
    },
    {
      "cell_type": "code",
      "metadata": {
        "id": "SBbkowyekEhV"
      },
      "source": [
        "class Array2DADT:\n",
        "    def __init__( self, ren, col ):\n",
        "        #y = elementos de cada renglón, crea lista principal \n",
        "        self.__pollo = [ [0 for y in range(col)] for x in range (ren) ]\n",
        "\n",
        "    def clear ( self, dato ):\n",
        "        self.__pollo = [ [ dato for y in range(self.get_col_size() ) ] for x in range(self.get_row_size() ) ]\n",
        "\n",
        "    def get_row_size( self ):\n",
        "        return len( self.__pollo ) \n",
        "\n",
        "    def get_col_size( self ):\n",
        "        return len( self.__pollo [0] ) \n",
        "    \n",
        "    def set_item( self, ren, col, dato ):\n",
        "        self.__pollo[ren][col] = dato \n",
        "    \n",
        "    def get_item( self, ren, col ):\n",
        "        return self.__pollo[ren][col]\n",
        "    \n",
        "    def to_string( self ):\n",
        "        cadena = \"\"\n",
        "        #sacar cada ren de la lista pollo e iterar sobre ella\n",
        "        for renglon in self.__pollo:\n",
        "            cadena = cadena + \"|\"\n",
        "            for dato in renglon:\n",
        "                cadena = cadena + str(dato) + \" | \"\n",
        "            cadena = cadena + \"\\n\"\n",
        "        return cadena\n"
      ],
      "execution_count": 1,
      "outputs": []
    },
    {
      "cell_type": "code",
      "metadata": {
        "colab": {
          "base_uri": "https://localhost:8080/"
        },
        "id": "_liDFLZBoZ9r",
        "outputId": "70681bef-e04d-440a-a616-8a4915a2cfef"
      },
      "source": [
        "a2d = Array2DADT( 3, 6 )\n",
        "\n",
        "print(f\"Renglones: { a2d.get_row_size() }\")\n",
        "print(f\"Columnas: { a2d.get_col_size() }\")\n",
        "print( a2d.to_string() )\n",
        "print(\"\")\n",
        "a2d.clear(\"wow\")\n",
        "print( a2d.to_string() )\n",
        "\n",
        "a2d.set_item(2, 3, 'p')\n",
        "print( a2d.to_string() )\n",
        "print( a2d.get_item(2, 3) )"
      ],
      "execution_count": 2,
      "outputs": [
        {
          "output_type": "stream",
          "name": "stdout",
          "text": [
            "Renglones: 3\n",
            "Columnas: 6\n",
            "|0 | 0 | 0 | 0 | 0 | 0 | \n",
            "|0 | 0 | 0 | 0 | 0 | 0 | \n",
            "|0 | 0 | 0 | 0 | 0 | 0 | \n",
            "\n",
            "\n",
            "|wow | wow | wow | wow | wow | wow | \n",
            "|wow | wow | wow | wow | wow | wow | \n",
            "|wow | wow | wow | wow | wow | wow | \n",
            "\n",
            "|wow | wow | wow | wow | wow | wow | \n",
            "|wow | wow | wow | wow | wow | wow | \n",
            "|wow | wow | wow | p | wow | wow | \n",
            "\n",
            "p\n"
          ]
        }
      ]
    },
    {
      "cell_type": "markdown",
      "metadata": {
        "id": "K3oeWmfI39jW"
      },
      "source": [
        "#***Tarea 6***\n",
        "\n",
        "---\n",
        "\n",
        "\n",
        "\n"
      ]
    },
    {
      "cell_type": "code",
      "metadata": {
        "id": "S2sLG_0Z4twU"
      },
      "source": [
        "\"\"\"\n",
        "Los datos iniciales como lo son:\n",
        "1. Tamaño de la población(ren y col)\n",
        "2. Población inicial\n",
        "3. Número de generaciones a simular\n",
        "\n",
        "Se proporcionan por un archivo CSV \n",
        "\n",
        "5 ---> ren\n",
        "5 ---> col\n",
        "0,0,0,0,0 |\n",
        "0,0,1,0,0 |\n",
        "0,1,1,1,0 |---> pob ini\n",
        "0,0,0,0,0 |\n",
        "0,0,0,0,0 |\n",
        "10 ---> generaciones\n",
        "\n",
        "\"\"\""
      ],
      "execution_count": null,
      "outputs": []
    },
    {
      "cell_type": "code",
      "metadata": {
        "id": "kxbXfkYN4GRz"
      },
      "source": [
        "class JuegoDeLaVida:\n",
        "    def __init__ ( self, ruta_archivo ):\n",
        "        self.rens = None\n",
        "        self.cols = None\n",
        "        self.tablero = None\n",
        "        self.generaciones = None\n",
        "        self.read_game_data( ruta_archivo )\n",
        "\n",
        "    def read_game_data( self, archivo ):\n",
        "       #método que recibe la ruta del archivo, lee y da valores\n",
        "       archivo = open(archivo, 'rt')\n",
        "       lineas = archivo.readlines()\n",
        "       #quitar espacios en blanco y saltos de línea\n",
        "       for index in range(len(lineas)):\n",
        "           lineas[index] = lineas[index].strip()\n",
        "       #print(lineas)\n",
        "       \n",
        "       self.rens = int( lineas[0] )\n",
        "       self.cols = int( lineas[1] )\n",
        "       self.tablero = Array2DADT(self.rens, self.cols)\n",
        "       #variables locales\n",
        "       r = 0\n",
        "       c = 0\n",
        "       for index in range( 2, 2 + self.rens , 1 ):\n",
        "           c = 0\n",
        "           for dato in lineas[index].split( ',' ):\n",
        "               self.tablero.set_item( r , c , int(dato) )\n",
        "               c += 1\n",
        "           r += 1\n",
        "\n",
        "       self.generaciones = int( lineas [ len(lineas) - 1] ) # int( lineas[-1])\n",
        "       print( \"Gens:\", self.generaciones)\n",
        "       print(self.tablero.to_string())\n",
        "        \n",
        "    def get_vecinos( self, r , c):\n",
        "        vecinos = []\n",
        "        for ren in range( r-1 , r+2 , 1 ):\n",
        "            for col in range(c-1 , c+2 , 1):\n",
        "                if ren < 0 or ren >= self.tablero.get_row_size() or col < 0 or col >= self.tablero.get_col_size() or (ren==r and col==c):\n",
        "                    pass\n",
        "                else:\n",
        "                    vecinos.append((ren,col))\n",
        "        return vecinos\n",
        "\n",
        "    def get_vecinos_vivos( self, r, c ):\n",
        "        vecinos = self.get_vecinos(r, c)\n",
        "        vivos = 0\n",
        "        for par in vecinos:\n",
        "            if self.tablero.get_item( par[0], par[1] ) == 1:\n",
        "                vivos += 1\n",
        "            return vivos\n",
        "\n",
        "    def calcular_siguiente( self ):\n",
        "        nueva_gen = Array2DADT(self.rens, self.cols)\n",
        "        #aplicar 4 reglas a cada célula y el resultado se pone en nueva_gen\n",
        "        for ren in range( self.rens ):\n",
        "            for col in range( self.cols ):\n",
        "                print(f\"{ren}, {col} --> {self.get_vecinos_vivos(ren,col)}\")\n",
        "\n",
        "\n",
        "        self.tablero = nueva_gen    \n"
      ],
      "execution_count": 50,
      "outputs": []
    },
    {
      "cell_type": "code",
      "metadata": {
        "colab": {
          "base_uri": "https://localhost:8080/"
        },
        "id": "U-m4DEv36d1E",
        "outputId": "0bd4ba78-20b8-4682-c93a-fde988b6b074"
      },
      "source": [
        "juego = JuegoDeLaVida( 'entrada.txt')\n",
        "#print(juego.get_vecinos_vivos( 1, 2 ))\n",
        "juego.calcular_siguiente()"
      ],
      "execution_count": 51,
      "outputs": [
        {
          "output_type": "stream",
          "name": "stdout",
          "text": [
            "Gens: 10\n",
            "|0 | 0 | 0 | 0 | 0 | \n",
            "|0 | 0 | 1 | 0 | 0 | \n",
            "|0 | 1 | 1 | 1 | 0 | \n",
            "|0 | 0 | 0 | 0 | 0 | \n",
            "|0 | 0 | 0 | 0 | 0 | \n",
            "\n",
            "0, 0 --> 0\n",
            "0, 1 --> 0\n",
            "0, 2 --> 0\n",
            "0, 3 --> 0\n",
            "0, 4 --> 0\n",
            "1, 0 --> 0\n",
            "1, 1 --> 0\n",
            "1, 2 --> 0\n",
            "1, 3 --> 0\n",
            "1, 4 --> 0\n",
            "2, 0 --> 0\n",
            "2, 1 --> 0\n",
            "2, 2 --> 0\n",
            "2, 3 --> 1\n",
            "2, 4 --> 0\n",
            "3, 0 --> 0\n",
            "3, 1 --> 0\n",
            "3, 2 --> 1\n",
            "3, 3 --> 1\n",
            "3, 4 --> 1\n",
            "4, 0 --> 0\n",
            "4, 1 --> 0\n",
            "4, 2 --> 0\n",
            "4, 3 --> 0\n",
            "4, 4 --> 0\n"
          ]
        }
      ]
    }
  ]
}