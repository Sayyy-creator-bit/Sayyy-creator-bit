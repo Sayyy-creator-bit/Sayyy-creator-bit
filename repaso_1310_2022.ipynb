{
  "nbformat": 4,
  "nbformat_minor": 0,
  "metadata": {
    "colab": {
      "name": "repaso_1310_2022.ipynb",
      "provenance": [],
      "collapsed_sections": [],
      "authorship_tag": "ABX9TyMRTm+8V0baOkIoAmIJyJu9",
      "include_colab_link": true
    },
    "kernelspec": {
      "name": "python3",
      "display_name": "Python 3"
    },
    "language_info": {
      "name": "python"
    }
  },
  "cells": [
    {
      "cell_type": "markdown",
      "metadata": {
        "id": "view-in-github",
        "colab_type": "text"
      },
      "source": [
        "<a href=\"https://colab.research.google.com/github/Sayyy-creator-bit/Sayyy-creator-bit/blob/main/repaso_1310_2022.ipynb\" target=\"_parent\"><img src=\"https://colab.research.google.com/assets/colab-badge.svg\" alt=\"Open In Colab\"/></a>"
      ]
    },
    {
      "cell_type": "markdown",
      "metadata": {
        "id": "oW8oi-43fFaw"
      },
      "source": [
        "## Repaso de programación con Python 3\n",
        "\n",
        "#### EDD 1310\n",
        "\n",
        "_Función print_\n",
        "1. Utilizando comillas doble\n",
        "1. Utilizando el signo \",\"\n",
        "1. Utilizando \"+\"\n",
        "1. Utilizando la función format\n",
        "1. El operador f\"\"\n",
        "\n",
        "\n",
        "\n"
      ]
    },
    {
      "cell_type": "code",
      "metadata": {
        "colab": {
          "base_uri": "https://localhost:8080/"
        },
        "id": "MrzIRcJDcAcj",
        "outputId": "02eebf6e-021c-4b4f-be8b-9997c1d41e6a"
      },
      "source": [
        "print ('Hola mundo')\n",
        "print (\"hola mundo\")\n",
        "\n",
        "nombre = \"Sayuri\"\n",
        "carrera = \"Ingenieria en Computación\"\n",
        "\n",
        "print (nombre)\n",
        "\n",
        "print (\"Hola\" , nombre )\n",
        "print (\"Hola\" + nombre)\n",
        "\n",
        "print (\"Tu nombre es: \" , nombre , \"\\n Estudiaste: \" , carrera)\n",
        "\n",
        "#Con format\n",
        "print(\"Tu nombre es:  {0} \\n Estudiaste:  {1}\".format(nombre,carrera))\n",
        "\n",
        "#Con el operador f\"\n",
        "print(f\"Tu nombre es: {nombre} \\n Estudiaste: {carrera}\")\n",
        "\n",
        "#Salto de línea al final del print se da por el argumento por defecto (end=\\n)\n",
        "print(nombre)\n",
        "print(\" \")\n",
        "print(carrera)\n",
        "#Que salga todo el print en la misma línea\n",
        "print(nombre , end=\"\")\n",
        "print(\" \", end=\"\")\n",
        "print(carrera, end=\"\")\n"
      ],
      "execution_count": 17,
      "outputs": [
        {
          "output_type": "stream",
          "name": "stdout",
          "text": [
            "Hola mundo\n",
            "hola mundo\n",
            "Sayuri\n",
            "Hola Sayuri\n",
            "HolaSayuri\n",
            "Tu nombre es:  Sayuri \n",
            " Estudiaste:  Ingenieria en Computación\n",
            "Tu nombre es:  Sayuri \n",
            " Estudiaste:  Ingenieria en Computación\n",
            "Tu nombre es: Sayuri \n",
            " Estudiaste: Ingenieria en Computación\n",
            "Sayuri\n",
            " \n",
            "Ingenieria en Computación\n",
            "Sayuri Ingenieria en Computación"
          ]
        }
      ]
    },
    {
      "cell_type": "markdown",
      "metadata": {
        "id": "zdLO7j0bkxFI"
      },
      "source": [
        "## Entrada de datos\n",
        "### funcion input()\n",
        "\n",
        "Sirve para pedir datos al usuario,\n",
        "equivalente al scanf del lenguaje \"C\" o a la clase Scanner de Java. Siempre regresa un String"
      ]
    },
    {
      "cell_type": "code",
      "metadata": {
        "colab": {
          "base_uri": "https://localhost:8080/"
        },
        "id": "vz4OJ_ThlECE",
        "outputId": "8734166f-667b-4c38-edd3-7d94a5d74ac3"
      },
      "source": [
        "nombre = input (\"Introduce tu nombre: \")\n",
        "print(nombre)\n",
        "\n",
        "semestre = input(\"¿En qué semestre estás?: \")\n",
        "print (semestre)\n",
        "semestre = int(semestre) + 1 #+ 1 es para aumentar el valor que entra por teclado\n",
        "print (semestre)\n",
        "semestre = semestre + 1 #ya es entero\n",
        "print(semestre)\n",
        "\n",
        "#Forma sencilla de realizar la fnción input de líneas 4-9\n",
        "semestre = int( input(\"¿Cuál es tu semestre?: \") )\n",
        "semestre = semestre + 1\n",
        "print(semestre)\n"
      ],
      "execution_count": 24,
      "outputs": [
        {
          "output_type": "stream",
          "name": "stdout",
          "text": [
            "Introduce tu nombre: Sayuri González\n",
            "Sayuri González\n",
            "¿En qué semestre estás?: 3\n",
            "3\n",
            "4\n",
            "5\n",
            "¿Cuál es tu semestre?: 3\n",
            "4\n"
          ]
        }
      ]
    },
    {
      "cell_type": "markdown",
      "metadata": {
        "id": "k6GL6TtkneFp"
      },
      "source": [
        "##Tarea Moral\n",
        "Investigar los siguientes conceptos en python:\n",
        "- Tipos de datos (en general)\n",
        "\n",
        "- Operadores:\n",
        "     - aritméticos\n",
        "     - lógicos\n",
        "     - booleanos (and, or, not)\n",
        "- Aritmética:\n",
        "    - asignación\n",
        "    - agrupación de ecuaciones con    paréntesis (precedencia de operadores)\n",
        "- Comentarios:\n",
        "    - de simple línea\n",
        "    - de línea múltiple"
      ]
    },
    {
      "cell_type": "markdown",
      "metadata": {
        "id": "_1BYrZ-cofsP"
      },
      "source": [
        "## Tipo de dato: STRING (str)\n",
        "\n",
        "Es un tipo de dato muy versátil. Los tipos de datos en python en realidad son objetos (POO), es decir tiene atributos y métodos.\n",
        "\n",
        "Los valores internos de un str se almacenan como un arreglo. Es decir, se accede a los elementos con el operador _[indice]_"
      ]
    },
    {
      "cell_type": "code",
      "metadata": {
        "colab": {
          "base_uri": "https://localhost:8080/"
        },
        "id": "i7svlP5SpBYr",
        "outputId": "714899c6-9512-4df1-e243-8e5c48b08399"
      },
      "source": [
        "frase = \"El conocimiento me persigue... pero yo soy más rápido!!!\"\n",
        "#Almacenar la información\n",
        "print (frase [3])\n",
        "\n",
        "print ( len( frase ) )\n",
        "print ( frase[55] )\n",
        "\n",
        "#indexado negativo = se utiliza cuando la frase o el texto es muy largo y queremos pedir uno de los últimos elementos\n",
        "print ( frase[-8] )\n",
        "\n",
        "#iterar sobre un String\n",
        "for letra in frase:\n",
        "    print(letra)\n",
        "print(\"fin\")"
      ],
      "execution_count": 31,
      "outputs": [
        {
          "output_type": "stream",
          "name": "stdout",
          "text": [
            "c\n",
            "56\n",
            "!\n",
            "á\n",
            "E\n",
            "l\n",
            " \n",
            "c\n",
            "o\n",
            "n\n",
            "o\n",
            "c\n",
            "i\n",
            "m\n",
            "i\n",
            "e\n",
            "n\n",
            "t\n",
            "o\n",
            " \n",
            "m\n",
            "e\n",
            " \n",
            "p\n",
            "e\n",
            "r\n",
            "s\n",
            "i\n",
            "g\n",
            "u\n",
            "e\n",
            ".\n",
            ".\n",
            ".\n",
            " \n",
            "p\n",
            "e\n",
            "r\n",
            "o\n",
            " \n",
            "y\n",
            "o\n",
            " \n",
            "s\n",
            "o\n",
            "y\n",
            " \n",
            "m\n",
            "á\n",
            "s\n",
            " \n",
            "r\n",
            "á\n",
            "p\n",
            "i\n",
            "d\n",
            "o\n",
            "!\n",
            "!\n",
            "!\n",
            "fin\n"
          ]
        }
      ]
    }
  ]
}