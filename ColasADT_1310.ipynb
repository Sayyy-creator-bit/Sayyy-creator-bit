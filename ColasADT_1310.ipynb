{
  "nbformat": 4,
  "nbformat_minor": 0,
  "metadata": {
    "colab": {
      "name": "ColasADT_1310.ipynb",
      "provenance": [],
      "authorship_tag": "ABX9TyNqdKEvLCrRhYk583pbTjEw",
      "include_colab_link": true
    },
    "kernelspec": {
      "name": "python3",
      "display_name": "Python 3"
    },
    "language_info": {
      "name": "python"
    }
  },
  "cells": [
    {
      "cell_type": "markdown",
      "metadata": {
        "id": "view-in-github",
        "colab_type": "text"
      },
      "source": [
        "<a href=\"https://colab.research.google.com/github/Sayyy-creator-bit/Sayyy-creator-bit/blob/main/ColasADT_1310.ipynb\" target=\"_parent\"><img src=\"https://colab.research.google.com/assets/colab-badge.svg\" alt=\"Open In Colab\"/></a>"
      ]
    },
    {
      "cell_type": "markdown",
      "metadata": {
        "id": "Q7xNmHzMGcM2"
      },
      "source": [
        "#Colas\n",
        "\n",
        "- Estructura de datos lineal\n",
        "- Implementa un protocolo FIFO (First In, First Out)\n",
        "- Los elementos osn agregados por un extremo y sacados por el extremo contrario\n",
        " - Queue(): --> Constructor\n",
        " - Enqueue(): Agregar elementos\n",
        " - Dequeue(): Quitar elementos\n",
        " - *to_string(): mostrar el estado actual*\n",
        " - is_empty(): ¿Está vacía?\n",
        " - lenght(): longitud de la cola\n",
        "\n",
        "- Estructura de datos que se puede implementar con:\n",
        " - ADT Array\n",
        " - ADT Linked List\n",
        " \n"
      ]
    },
    {
      "cell_type": "code",
      "metadata": {
        "id": "Vdk4cc9rGXSn"
      },
      "source": [
        "class Queue:\n",
        "    def __init__(self):\n",
        "        self.data = []\n",
        "    \n",
        "    def is_empty(self):\n",
        "        return len(self.data) == 0\n",
        "\n",
        "    def lenght(self):\n",
        "        return len(self.data)\n",
        "    \n",
        "    def enqueue(self, value):\n",
        "        self.data.append(value)\n",
        "    \n",
        "    def dequeue(self):\n",
        "        self.data.pop(0)\n",
        "    \n",
        "    def to_string(self):\n",
        "        for elem in self.data:\n",
        "            print(f\"|{elem}| <-- \", end=\"\")\n",
        "        print(\"\")\n",
        "    "
      ],
      "execution_count": 6,
      "outputs": []
    },
    {
      "cell_type": "code",
      "metadata": {
        "colab": {
          "base_uri": "https://localhost:8080/"
        },
        "id": "aGsLmUHbNgCb",
        "outputId": "705837bf-6b6b-4ac5-bc7a-627849aa5581"
      },
      "source": [
        "cola = Queue()\n",
        "print(\"Está vacío?: \", cola.is_empty())\n",
        "print(\"Número de elementos: \", cola.lenght())\n",
        "\n",
        "cola.enqueue(10)\n",
        "cola.enqueue(20)\n",
        "cola.enqueue(30)\n",
        "print(\"Está vacío?: \", cola.is_empty())\n",
        "print(\"Número de elementos: \", cola.lenght())\n",
        "cola.enqueue(40)\n",
        "cola.enqueue(50)\n",
        "cola.enqueue(60)\n",
        "cola.to_string()\n",
        "\n",
        "siguiente = cola.dequeue()\n",
        "print(\"Atendiendo a: \", siguiente)\n",
        "cola.to_string()"
      ],
      "execution_count": 7,
      "outputs": [
        {
          "output_type": "stream",
          "name": "stdout",
          "text": [
            "Está vacío?:  True\n",
            "Número de elementos:  0\n",
            "Está vacío?:  False\n",
            "Número de elementos:  3\n",
            "|10| <-- |20| <-- |30| <-- |40| <-- |50| <-- |60| <-- \n",
            "Atendiendo a:  None\n",
            "|20| <-- |30| <-- |40| <-- |50| <-- |60| <-- \n"
          ]
        }
      ]
    },
    {
      "cell_type": "markdown",
      "metadata": {
        "id": "Nqu6oOuyQieT"
      },
      "source": [
        "#Variantes del ADT Cola\n",
        "1. Circulares\n",
        "2. Prioridad\n",
        "\n",
        "   I. acotada (establece un máximo de elementos)\n",
        "\n",
        "   II. no acotada (no hay límite en los valores de prioridad, flexibilidad de crecimiento)\n",
        "\n",
        "\n"
      ]
    },
    {
      "cell_type": "markdown",
      "metadata": {
        "id": "I6bBjF8UR0l2"
      },
      "source": [
        "#Cola de Prioridad\n",
        "- Lineal o de 2 dimensiones\n",
        "- Los elementos son agregador por un extremo, y se le asigna una prioridad (se mete en una subcola)\n",
        "- Protocolo FIFO\n",
        "- Al usar enqueue(insertar) y hay 2 elementos con la misma prioridad, se usan reglas ADT Queue\n",
        "\n",
        "Métodos\n",
        " - PriorityQueue() --> Constructor\n",
        " - is_empty():    \n",
        " - lenght():     \n",
        " - enqueue(prioridad, elem): Ingresa un elemento al final   \n",
        " - dequeue(): Saca ele elmento que se encuentra al frente\n",
        " - to_string(): Opcional, mostrar el estado de la cola"
      ]
    },
    {
      "cell_type": "code",
      "metadata": {
        "id": "jXstknxBxWCj"
      },
      "source": [
        "class BoundedPriorityQueue:\n",
        "    def __init__(self, niveles):\n",
        "        self.__data = [ Queue() for x in range(niveles) ]\n",
        "            #self.__data = Array(niveles)\n",
        "            #self.__ data.clear( Queue() )\n",
        "        self.__size = 0 #el numero de elementos\n",
        "\n",
        "    def is_empty(self):\n",
        "        return self.__size == 0\n",
        "\n",
        "    def length(self):\n",
        "        return self.__size\n",
        "\n",
        "    def enqueue(self, prioridad, elem):\n",
        "        if prioridad < len( self.__data ) \\\n",
        "            and prioridad >= 0:\n",
        "            self.__data[prioridad].enqueue(elem)\n",
        "            self.__size += 1\n",
        "\n",
        "    def dequeue(self):\n",
        "        nivel = 0\n",
        "        while self.__data[nivel].is_empty() \\\n",
        "                and nivel < self.length():\n",
        "            nivel += 1\n",
        "            \n",
        "        if nivel >= self.length():\n",
        "            print(\"La cola está vacía\")\n",
        "        else:\n",
        "            return self.__data[nivel].dequeue()\n",
        "\n",
        "    def to_string(self):\n",
        "        prioridad = 0 \n",
        "        for cola in self.__data:\n",
        "            print(f\"Prioridad {prioridad} -> \", end= \"\")\n",
        "               \n",
        "            cola.to_string()\n",
        "            prioridad += 1"
      ],
      "execution_count": 10,
      "outputs": []
    },
    {
      "cell_type": "code",
      "metadata": {
        "colab": {
          "base_uri": "https://localhost:8080/"
        },
        "id": "Hza2UEbIzPVM",
        "outputId": "e2354007-382f-4dd6-94d0-13d242a8da77"
      },
      "source": [
        "# prueba de la cola con prioridad\n",
        "salvavidas = BoundedPriorityQueue( 7 )\n",
        "salvavidas.enqueue(4, \"Maestre\")\n",
        "salvavidas.enqueue(1, \"Niños\")\n",
        "salvavidas.enqueue(4, \"Mecanico\")\n",
        "\n",
        "salvavidas.enqueue(3, \"Mujeres\")\n",
        "salvavidas.enqueue(2, \"Tercera edad\")\n",
        "salvavidas.enqueue(1, \"Niñas\")\n",
        "salvavidas.enqueue(3, \"Hombres\")\n",
        "salvavidas.enqueue(4, \"Vigia\")\n",
        "salvavidas.enqueue(5, \"Capitan\")\n",
        "salvavidas.enqueue(4, \"Timonel\")\n",
        "salvavidas.to_string()\n",
        "sig = salvavidas.dequeue()\n",
        "print(f\"Subiendo { sig } al bote salvavidas!!\")\n",
        "salvavidas.to_string()"
      ],
      "execution_count": 11,
      "outputs": [
        {
          "output_type": "stream",
          "name": "stdout",
          "text": [
            "Prioridad 0 -> \n",
            "Prioridad 1 -> |Niños| <-- |Niñas| <-- \n",
            "Prioridad 2 -> |Tercera edad| <-- \n",
            "Prioridad 3 -> |Mujeres| <-- |Hombres| <-- \n",
            "Prioridad 4 -> |Maestre| <-- |Mecanico| <-- |Vigia| <-- |Timonel| <-- \n",
            "Prioridad 5 -> |Capitan| <-- \n",
            "Prioridad 6 -> \n",
            "Subiendo None al bote salvavidas!!\n",
            "Prioridad 0 -> \n",
            "Prioridad 1 -> |Niñas| <-- \n",
            "Prioridad 2 -> |Tercera edad| <-- \n",
            "Prioridad 3 -> |Mujeres| <-- |Hombres| <-- \n",
            "Prioridad 4 -> |Maestre| <-- |Mecanico| <-- |Vigia| <-- |Timonel| <-- \n",
            "Prioridad 5 -> |Capitan| <-- \n",
            "Prioridad 6 -> \n"
          ]
        }
      ]
    },
    {
      "cell_type": "code",
      "metadata": {
        "id": "aA8gzI2Vzewd"
      },
      "source": [
        "# Implementacion de las colas de prioridad sin acotamientos \n",
        "\n",
        "class PriorityQueue:\n",
        "    def __init__(self):\n",
        "        self.__data = []\n",
        "        self.__size = 0\n",
        "\n",
        "    def is_empty(self):\n",
        "        return self.__size == 0\n",
        "\n",
        "    def length(self):\n",
        "        return self.__size\n",
        "\n",
        "    def enqueue(self, prioridad, elem):\n",
        "        existe = False\n",
        "        indice =  0\n",
        "        for index in range(len(self.__data)):\n",
        "            if self.__data [index][\"prioridad\"] == prioridad:\n",
        "                existe = True\n",
        "                indice = index\n",
        "\n",
        "\n",
        "        if existe:\n",
        "            self.__data[indice][\"cola\"].enqueue(elem)\n",
        "        else:\n",
        "            self.__data.append( {\"prioridad\":prioridad, \"cola\": Queue() } )\n",
        "            self.__data[-1][\"cola\"].enqueue(elem)\n",
        "\n",
        "    def to_string(self):\n",
        "        for cola in self.__data:\n",
        "            cola[\"cola\"].to_string()\n",
        "    \n",
        "    '''\n",
        "def dequeue(self):\n",
        "    siguiente = 9999999\n",
        "    sig_indice = 0\n",
        "\n",
        "    for index in range(len(self.__data)):\n",
        "        if self.__data[index][\"prioridad\"] < siguiente \\\n",
        "           and not self.__data[index][\"cola\"].is_empty():\n",
        "           siguiente = self.__data[index][\"prioridad\"]\n",
        "           sig_indice = index\n",
        "'''"
      ],
      "execution_count": 13,
      "outputs": []
    },
    {
      "cell_type": "code",
      "metadata": {
        "colab": {
          "base_uri": "https://localhost:8080/"
        },
        "id": "LkovUKSrzjlb",
        "outputId": "fadbcca7-3503-4390-c5d5-bd3cb936c679"
      },
      "source": [
        "cp = PriorityQueue()\n",
        "cp.enqueue(1, \"niñas\")\n",
        "cp.enqueue(2, \"niños\")\n",
        "cp.enqueue(2, \"profesores\")\n",
        "cp.to_string()"
      ],
      "execution_count": 15,
      "outputs": [
        {
          "output_type": "stream",
          "name": "stdout",
          "text": [
            "|niñas| <-- \n",
            "|niños| <-- |profesores| <-- \n"
          ]
        }
      ]
    },
    {
      "cell_type": "code",
      "metadata": {
        "id": "zhS3hQYHYTNz"
      },
      "source": [
        "'''\n",
        "cp = PriorityQueue()\n",
        "cp.enqueue(1, \"niñas\")\n",
        "cp.enqueue(2, \"niños\")\n",
        "cp.enqueue(2, \"Profesores\")\n",
        "cp.enqueue(0, \"presidente de EU\")\n",
        "cp.enqueue(999, \"presidente de MX\")\n",
        "cp.to_string()\n",
        "'''"
      ],
      "execution_count": null,
      "outputs": []
    }
  ]
}