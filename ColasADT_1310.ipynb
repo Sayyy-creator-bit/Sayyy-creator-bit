{
  "nbformat": 4,
  "nbformat_minor": 0,
  "metadata": {
    "colab": {
      "name": "ColasADT_1310.ipynb",
      "provenance": [],
      "authorship_tag": "ABX9TyO4nz4ZrODEop8gLQgI16ZP",
      "include_colab_link": true
    },
    "kernelspec": {
      "name": "python3",
      "display_name": "Python 3"
    },
    "language_info": {
      "name": "python"
    }
  },
  "cells": [
    {
      "cell_type": "markdown",
      "metadata": {
        "id": "view-in-github",
        "colab_type": "text"
      },
      "source": [
        "<a href=\"https://colab.research.google.com/github/Sayyy-creator-bit/Sayyy-creator-bit/blob/main/ColasADT_1310.ipynb\" target=\"_parent\"><img src=\"https://colab.research.google.com/assets/colab-badge.svg\" alt=\"Open In Colab\"/></a>"
      ]
    },
    {
      "cell_type": "markdown",
      "metadata": {
        "id": "Q7xNmHzMGcM2"
      },
      "source": [
        "#Colas\n",
        "\n",
        "- Estructura de datos lineal\n",
        "- Implementa un protocolo FIFO (First In, First Out)\n",
        "- Los elementos osn agregados por un extremo y sacados por el extremo contrario\n",
        " - Queue(): --> Constructor\n",
        " - Enqueue(): Agregar elementos\n",
        " - Dequeue(): Quitar elementos\n",
        " - *to_string(): mostrar el estado actual*\n",
        " - is_empty(): ¿Está vacía?\n",
        " - lenght(): longitud de la cola\n",
        "\n",
        "- Estructura de datos que se puede implementar con:\n",
        " - ADT Array\n",
        " - ADT Linked List\n",
        " \n"
      ]
    },
    {
      "cell_type": "code",
      "metadata": {
        "id": "Vdk4cc9rGXSn"
      },
      "source": [
        "class Queue:\n",
        "    def __init__(self):\n",
        "        self.data = []\n",
        "    \n",
        "    def is_empty(self):\n",
        "        return len(self.data) == 0\n",
        "\n",
        "    def lenght(self):\n",
        "        return len(self.data)\n",
        "    \n",
        "    def enqueue(self, value):\n",
        "        self.data.append(value)\n",
        "    \n",
        "    def dequeue(self):\n",
        "        self.data.pop(0)\n",
        "    \n",
        "    def to_string(self):\n",
        "        for elem in self.data:\n",
        "            print(f\"|{elem}| <-- \", end=\"\")\n",
        "        print(\"\")\n",
        "    "
      ],
      "execution_count": 6,
      "outputs": []
    },
    {
      "cell_type": "code",
      "metadata": {
        "colab": {
          "base_uri": "https://localhost:8080/"
        },
        "id": "aGsLmUHbNgCb",
        "outputId": "5550cee6-956f-4ed3-e8f4-1993c78b55ab"
      },
      "source": [
        "cola = Queue()\n",
        "print(\"Está vacío?: \", cola.is_empty())\n",
        "print(\"Número de elementos: \", cola.lenght())\n",
        "\n",
        "cola.enqueue(10)\n",
        "cola.enqueue(20)\n",
        "cola.enqueue(30)\n",
        "print(\"Está vacío?: \", cola.is_empty())\n",
        "print(\"Número de elementos: \", cola.lenght())\n",
        "cola.enqueue(40)\n",
        "cola.enqueue(50)\n",
        "cola.enqueue(60)\n",
        "cola.to_string()\n",
        "\n",
        "siguiente = cola.dequeue()\n",
        "print(\"Atendiendo a: \", siguiente)\n",
        "cola.to_string()"
      ],
      "execution_count": 9,
      "outputs": [
        {
          "output_type": "stream",
          "name": "stdout",
          "text": [
            "Está vacío?:  True\n",
            "Número de elementos:  0\n",
            "Está vacío?:  False\n",
            "Número de elementos:  3\n",
            "|10| <-- |20| <-- |30| <-- |40| <-- |50| <-- |60| <-- \n",
            "Atendiendo a:  None\n",
            "|20| <-- |30| <-- |40| <-- |50| <-- |60| <-- \n"
          ]
        }
      ]
    },
    {
      "cell_type": "markdown",
      "metadata": {
        "id": "Nqu6oOuyQieT"
      },
      "source": [
        "#Variantes del ADT Cola\n",
        "1. Circulares\n",
        "2. Prioridad\n",
        "\n",
        "   I. acotada (establece un máximo de elementos)\n",
        "\n",
        "   II. no acotada (no hay límite en los valores de prioridad, flexibilidad de crecimiento)\n",
        "\n",
        "\n"
      ]
    },
    {
      "cell_type": "markdown",
      "metadata": {
        "id": "I6bBjF8UR0l2"
      },
      "source": [
        "#Cola de Prioridad\n",
        "- Lineal o de 2 dimensiones\n",
        "- Los elementos son agregador por un extremo, y se le asigna una prioridad (se mete en una subcola)\n",
        "- Protocolo FIFO\n",
        "- Al usar enqueue(insertar) y hay 2 elementos con la misma prioridad, se usan reglas ADT Queue\n",
        "\n",
        "Métodos\n",
        " - PriorityQueue() --> Constructor\n",
        " - is_empty():    \n",
        " - lenght():     \n",
        " - enqueue(prioridad, elem): Ingresa un elemento al final   \n",
        " - dequeue(): Saca ele elmento que se encuentra al frente\n",
        " - to_string(): Opcional, mostrar el estado de la cola"
      ]
    },
    {
      "cell_type": "code",
      "metadata": {
        "id": "zhS3hQYHYTNz"
      },
      "source": [
        ""
      ],
      "execution_count": null,
      "outputs": []
    }
  ]
}