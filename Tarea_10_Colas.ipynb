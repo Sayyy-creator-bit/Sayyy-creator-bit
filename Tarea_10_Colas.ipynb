{
  "nbformat": 4,
  "nbformat_minor": 0,
  "metadata": {
    "colab": {
      "name": "Tarea 10/Colas.ipynb",
      "provenance": [],
      "authorship_tag": "ABX9TyOOyiVmaT8aSIh0YW+XoDvy",
      "include_colab_link": true
    },
    "kernelspec": {
      "name": "python3",
      "display_name": "Python 3"
    },
    "language_info": {
      "name": "python"
    }
  },
  "cells": [
    {
      "cell_type": "markdown",
      "metadata": {
        "id": "view-in-github",
        "colab_type": "text"
      },
      "source": [
        "<a href=\"https://colab.research.google.com/github/Sayyy-creator-bit/Sayyy-creator-bit/blob/main/Tarea_10_Colas.ipynb\" target=\"_parent\"><img src=\"https://colab.research.google.com/assets/colab-badge.svg\" alt=\"Open In Colab\"/></a>"
      ]
    },
    {
      "cell_type": "code",
      "execution_count": 1,
      "metadata": {
        "id": "fI7Nc9v0tKpf"
      },
      "outputs": [],
      "source": [
        "#Prioridad NO acotadas\n",
        "\n",
        "class PriorityQueue :\n",
        "    def __init__(self) :\n",
        "        self.data = []\n",
        "        self.index = []\n",
        "    \n",
        "    def is_empty(self) :\n",
        "        return len(self.data) == 0 \n",
        "    \n",
        "    def length(self) :\n",
        "        return len(self.data)\n",
        "\n",
        "    def enqueue(self, prioridad, ele):\n",
        "        if len(self.data) == 0 :\n",
        "            self.data.append(ele)\n",
        "            self.index.append(prioridad)\n",
        "        elif prioridad >= self.index[-1] :\n",
        "            self.data.append(ele)\n",
        "            self.index.append(prioridad)\n",
        "        else :\n",
        "            contador = 0\n",
        "            for elemento in self.index :\n",
        "                if prioridad >= elemento :\n",
        "                    contador += 1\n",
        "            self.data.insert(contador, ele)\n",
        "            self.index.insert(contador, prioridad)\n",
        "\n",
        "    def dequeue(self) :\n",
        "        remover = self.index.pop(0)\n",
        "        return self.data.pop(0)\n",
        "    \n",
        "    def to_string(self) :\n",
        "        contador = 0\n",
        "        for ele in self.data :\n",
        "            print(f'|{self.index[contador], ele}|<--', end=\"\")\n",
        "            contador += 1\n",
        "        print(\"\")"
      ]
    },
    {
      "cell_type": "code",
      "source": [
        "cola = PriorityQueue()\n",
        "print(\"Esta vacia la cola? : \", cola.is_empty())\n",
        "print(\"longitud: \", cola.length())\n",
        "\n",
        "print(\"Recopilacion de la cola: \")\n",
        "cola.enqueue(5, \"Capitan\")\n",
        "cola.to_string()\n",
        "cola.enqueue(2, \"3ra Edad\")\n",
        "cola.to_string()\n",
        "cola.enqueue(4, \"Vigia\")\n",
        "cola.to_string()\n",
        "cola.enqueue(4, \"Timonel\")\n",
        "cola.to_string()\n",
        "cola.enqueue(4, \"Mecanico\")\n",
        "cola.to_string()\n",
        "cola.enqueue(4, \"Maestre\")\n",
        "cola.to_string()\n",
        "cola.enqueue(3, \"Mujeres\")\n",
        "cola.to_string()\n",
        "cola.enqueue(2, \"Niños\")\n",
        "cola.to_string()\n",
        "cola.enqueue(3, \"Hombres\")\n",
        "cola.to_string()\n",
        "cola.enqueue(1, \"Niñas\")\n",
        "cola.to_string()\n",
        "\n",
        "print(\"\\nEjercicio de evacuacion:\\n\")\n",
        "print(\"Esta vacia la cola? : \", cola.is_empty())\n",
        "print(\"longitud: \", cola.length())\n",
        "cola.to_string()\n",
        "print(\"\")\n",
        "cola.dequeue()\n",
        "print(\"Prioridad 1 evacuado:\\n\")\n",
        "cola.to_string()"
      ],
      "metadata": {
        "colab": {
          "base_uri": "https://localhost:8080/"
        },
        "id": "siWwub_ntn0z",
        "outputId": "295e3b26-3901-4bf4-e769-6b0c4de323ee"
      },
      "execution_count": 2,
      "outputs": [
        {
          "output_type": "stream",
          "name": "stdout",
          "text": [
            "Esta vacia la cola? :  True\n",
            "longitud:  0\n",
            "Recopilacion de la cola: \n",
            "|(5, 'Capitan')|<--\n",
            "|(2, '3ra Edad')|<--|(5, 'Capitan')|<--\n",
            "|(2, '3ra Edad')|<--|(4, 'Vigia')|<--|(5, 'Capitan')|<--\n",
            "|(2, '3ra Edad')|<--|(4, 'Vigia')|<--|(4, 'Timonel')|<--|(5, 'Capitan')|<--\n",
            "|(2, '3ra Edad')|<--|(4, 'Vigia')|<--|(4, 'Timonel')|<--|(4, 'Mecanico')|<--|(5, 'Capitan')|<--\n",
            "|(2, '3ra Edad')|<--|(4, 'Vigia')|<--|(4, 'Timonel')|<--|(4, 'Mecanico')|<--|(4, 'Maestre')|<--|(5, 'Capitan')|<--\n",
            "|(2, '3ra Edad')|<--|(3, 'Mujeres')|<--|(4, 'Vigia')|<--|(4, 'Timonel')|<--|(4, 'Mecanico')|<--|(4, 'Maestre')|<--|(5, 'Capitan')|<--\n",
            "|(2, '3ra Edad')|<--|(2, 'Niños')|<--|(3, 'Mujeres')|<--|(4, 'Vigia')|<--|(4, 'Timonel')|<--|(4, 'Mecanico')|<--|(4, 'Maestre')|<--|(5, 'Capitan')|<--\n",
            "|(2, '3ra Edad')|<--|(2, 'Niños')|<--|(3, 'Mujeres')|<--|(3, 'Hombres')|<--|(4, 'Vigia')|<--|(4, 'Timonel')|<--|(4, 'Mecanico')|<--|(4, 'Maestre')|<--|(5, 'Capitan')|<--\n",
            "|(1, 'Niñas')|<--|(2, '3ra Edad')|<--|(2, 'Niños')|<--|(3, 'Mujeres')|<--|(3, 'Hombres')|<--|(4, 'Vigia')|<--|(4, 'Timonel')|<--|(4, 'Mecanico')|<--|(4, 'Maestre')|<--|(5, 'Capitan')|<--\n",
            "\n",
            "Ejercicio de evacuacion:\n",
            "\n",
            "Esta vacia la cola? :  False\n",
            "longitud:  10\n",
            "|(1, 'Niñas')|<--|(2, '3ra Edad')|<--|(2, 'Niños')|<--|(3, 'Mujeres')|<--|(3, 'Hombres')|<--|(4, 'Vigia')|<--|(4, 'Timonel')|<--|(4, 'Mecanico')|<--|(4, 'Maestre')|<--|(5, 'Capitan')|<--\n",
            "\n",
            "Prioridad 1 evacuado:\n",
            "\n",
            "|(2, '3ra Edad')|<--|(2, 'Niños')|<--|(3, 'Mujeres')|<--|(3, 'Hombres')|<--|(4, 'Vigia')|<--|(4, 'Timonel')|<--|(4, 'Mecanico')|<--|(4, 'Maestre')|<--|(5, 'Capitan')|<--\n"
          ]
        }
      ]
    },
    {
      "cell_type": "code",
      "source": [
        "#Prioridad acotadas\n",
        "\n",
        "class QueueADT:\n",
        "    def __init__( self ):\n",
        "        self.data = []\n",
        "    \n",
        "    def is_empty( self ):\n",
        "        return len( self.data ) == 0\n",
        "    \n",
        "    def length( self ):\n",
        "        return len( self.data )\n",
        "    \n",
        "    def enqueue( self, value ):\n",
        "        self.data.append( value )\n",
        "    \n",
        "    def dequeue( self ):\n",
        "        return self.data.pop(0)\n",
        "    \n",
        "    def to_string( self ):\n",
        "        for ele in self.data:\n",
        "            print(f\"|{ele}| <-- \", end= \"\")\n",
        "        print(\"\")"
      ],
      "metadata": {
        "id": "oYoP5UEztvIg"
      },
      "execution_count": 3,
      "outputs": []
    },
    {
      "cell_type": "code",
      "source": [
        "class BoundedPriorityQueueADT: \n",
        "    def __init__( self, niveles ):\n",
        "        self.data = [QueueADT() for x in range(niveles) ]\n",
        "        self.size = 0\n",
        "\n",
        "    def is_empty(self) :\n",
        "        return self.size == 0\n",
        "\n",
        "    def length( self ):\n",
        "        return self.size\n",
        "\n",
        "    def enqueue(self, prioridad, elem) :\n",
        "        if prioridad < len(self.data) and prioridad >= 0:\n",
        "            self.data[prioridad].enqueue(elem)\n",
        "            self.size += 1\n",
        "        else :\n",
        "            print(f'Error |{prioridad},{elem}| se encuentra fuera del limite.')\n",
        "    \n",
        "    def dequeue(self) :\n",
        "        if self.is_empty() :\n",
        "            print(\"No hay elementos en la cola.\")\n",
        "        else :\n",
        "            contador = len(self.data)-1\n",
        "            while contador >=0 :\n",
        "                if self.data[contador].is_empty() :\n",
        "                    contador -= 1\n",
        "                else :\n",
        "                    break\n",
        "            self.size -= 1\n",
        "            return self.data[contador].dequeue()\n",
        "\n",
        "    def to_string(self) :\n",
        "        for index in range(len(self.data)) :\n",
        "            if self.data[index].is_empty() :\n",
        "                pass\n",
        "            else :\n",
        "                self.data[index].to_string()\n",
        "        print(\"\")"
      ],
      "metadata": {
        "id": "VjvG8Bmst0Fw"
      },
      "execution_count": 4,
      "outputs": []
    },
    {
      "cell_type": "code",
      "source": [
        "cola = BoundedPriorityQueueADT(6) # 0 - 6\n",
        "print(\"Esta vacia la cola? : \", cola.is_empty())\n",
        "print(\"longitud: \", cola.length())\n",
        "cola.enqueue(5, \"Capitan\")\n",
        "cola.enqueue(2, \"3ra Edad\")\n",
        "cola.enqueue(4, \"Vigia\")\n",
        "cola.enqueue(4, \"Timonel\")\n",
        "cola.enqueue(4, \"Mecanico\")\n",
        "cola.enqueue(4, \"Maestre\")\n",
        "cola.enqueue(3, \"Mujeres\")\n",
        "cola.enqueue(2, \"Niños\")\n",
        "cola.enqueue(3, \"Hombres\")\n",
        "cola.enqueue(1, \"Niñas\")\n",
        "print(\"¿Cola vacía? : \", cola.is_empty())\n",
        "print(\"Longitud: \", cola.length())\n",
        "cola.to_string()\n",
        "print(\"Evacuado:\",cola.dequeue())\n",
        "cola.to_string()\n",
        "print(\"Longitud: \", cola.length())"
      ],
      "metadata": {
        "colab": {
          "base_uri": "https://localhost:8080/"
        },
        "id": "D3WK8b51t6Mo",
        "outputId": "25746123-4e19-4133-813c-fa0a82e963e3"
      },
      "execution_count": 5,
      "outputs": [
        {
          "output_type": "stream",
          "name": "stdout",
          "text": [
            "Esta vacia la cola? :  True\n",
            "longitud:  0\n",
            "¿Cola vacía? :  False\n",
            "Longitud:  10\n",
            "|Niñas| <-- \n",
            "|3ra Edad| <-- |Niños| <-- \n",
            "|Mujeres| <-- |Hombres| <-- \n",
            "|Vigia| <-- |Timonel| <-- |Mecanico| <-- |Maestre| <-- \n",
            "|Capitan| <-- \n",
            "\n",
            "Evacuado: Capitan\n",
            "|Niñas| <-- \n",
            "|3ra Edad| <-- |Niños| <-- \n",
            "|Mujeres| <-- |Hombres| <-- \n",
            "|Vigia| <-- |Timonel| <-- |Mecanico| <-- |Maestre| <-- \n",
            "\n",
            "Longitud:  9\n"
          ]
        }
      ]
    }
  ]
}