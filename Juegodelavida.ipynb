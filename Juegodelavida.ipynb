{
  "nbformat": 4,
  "nbformat_minor": 0,
  "metadata": {
    "colab": {
      "name": "Juegodelavida.ipynb",
      "provenance": [],
      "authorship_tag": "ABX9TyNDvn15koCrV23wAuplZDuY",
      "include_colab_link": true
    },
    "kernelspec": {
      "name": "python3",
      "display_name": "Python 3"
    },
    "language_info": {
      "name": "python"
    }
  },
  "cells": [
    {
      "cell_type": "markdown",
      "metadata": {
        "id": "view-in-github",
        "colab_type": "text"
      },
      "source": [
        "<a href=\"https://colab.research.google.com/github/Sayyy-creator-bit/Sayyy-creator-bit/blob/main/Juegodelavida.ipynb\" target=\"_parent\"><img src=\"https://colab.research.google.com/assets/colab-badge.svg\" alt=\"Open In Colab\"/></a>"
      ]
    },
    {
      "cell_type": "code",
      "metadata": {
        "colab": {
          "base_uri": "https://localhost:8080/"
        },
        "id": "5xIL8tEt3D_0",
        "outputId": "7abd675e-2a94-4825-e8b0-3ba796e50e94"
      },
      "source": [
        "import random\n",
        "\n",
        "#tablero donde el 1 corresponde a célula viva y 0 a célula muerta\n",
        "#tamaño del tablero 5x5\n",
        "#lista de listas (cada elemento también es una lista), iniciada con ceros\n",
        "#a cada elemento se le asigna un valor aleatorio\n",
        "def init(Nx, Ny):\n",
        "    C = [[0 for j in range(Nx)] for i in range(Ny)]\n",
        "    for i in range (Ny):\n",
        "        for j in range (Nx):\n",
        "           C[i][j] = random.randint(0,1)\n",
        "    return C\n",
        "\n",
        "C0 = init(5, 5)\n",
        "C0\n",
        "\n",
        "#int array ([[0, 0, 0, 0, 0], [0, 0, 1, 0, 0], [0, 1, 1, 1, 0], [0, 0, 0, 0, 0], [0, 0, 0, 0, 0]])\n"
      ],
      "execution_count": 15,
      "outputs": [
        {
          "output_type": "execute_result",
          "data": {
            "text/plain": [
              "[[0, 0, 1, 1, 1],\n",
              " [1, 0, 1, 0, 0],\n",
              " [1, 0, 0, 0, 0],\n",
              " [1, 1, 1, 1, 0],\n",
              " [0, 0, 0, 0, 1]]"
            ]
          },
          "metadata": {},
          "execution_count": 15
        }
      ]
    }
  ]
}